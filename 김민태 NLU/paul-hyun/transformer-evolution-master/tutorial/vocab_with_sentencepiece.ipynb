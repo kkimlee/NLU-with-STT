{
  "nbformat": 4,
  "nbformat_minor": 0,
  "metadata": {
    "colab": {
      "name": "vocab-with-sentencepiece.ipynb",
      "provenance": [],
      "collapsed_sections": []
    },
    "kernelspec": {
      "name": "python3",
      "display_name": "Python 3"
    }
  },
  "cells": [
    {
      "cell_type": "markdown",
      "metadata": {
        "id": "WzZJ5r2ixm1J",
        "colab_type": "text"
      },
      "source": [
        "## Google Sentence Piece를 이용해서 Vocab 파일을 만드는 과정\n",
        "Google SentencePeice와 한국어 위키를 이용해서 Vocab을 만드는 과정에 대한 설명 입니다.\n",
        "\n",
        "[Colab](https://colab.research.google.com/)에서 실행 했습니다."
      ]
    },
    {
      "cell_type": "markdown",
      "metadata": {
        "id": "SHyl69IN0qqw",
        "colab_type": "text"
      },
      "source": [
        "#### 0. Pip Install\n",
        "필요한 패키지를 pip를 이용해서 설치합니다."
      ]
    },
    {
      "cell_type": "code",
      "metadata": {
        "id": "lJ4-SgC_0uNd",
        "colab_type": "code",
        "outputId": "77eb3531-3ea4-4bf6-81b4-3857bb4512d5",
        "colab": {
          "base_uri": "https://localhost:8080/",
          "height": 102
        }
      },
      "source": [
        "!pip install sentencepiece"
      ],
      "execution_count": 0,
      "outputs": [
        {
          "output_type": "stream",
          "text": [
            "Collecting sentencepiece\n",
            "\u001b[?25l  Downloading https://files.pythonhosted.org/packages/74/f4/2d5214cbf13d06e7cb2c20d84115ca25b53ea76fa1f0ade0e3c9749de214/sentencepiece-0.1.85-cp36-cp36m-manylinux1_x86_64.whl (1.0MB)\n",
            "\r\u001b[K     |▎                               | 10kB 16.9MB/s eta 0:00:01\r\u001b[K     |▋                               | 20kB 2.2MB/s eta 0:00:01\r\u001b[K     |█                               | 30kB 3.2MB/s eta 0:00:01\r\u001b[K     |█▎                              | 40kB 2.1MB/s eta 0:00:01\r\u001b[K     |█▋                              | 51kB 2.6MB/s eta 0:00:01\r\u001b[K     |██                              | 61kB 3.1MB/s eta 0:00:01\r\u001b[K     |██▏                             | 71kB 3.6MB/s eta 0:00:01\r\u001b[K     |██▌                             | 81kB 4.1MB/s eta 0:00:01\r\u001b[K     |██▉                             | 92kB 4.6MB/s eta 0:00:01\r\u001b[K     |███▏                            | 102kB 3.5MB/s eta 0:00:01\r\u001b[K     |███▌                            | 112kB 3.5MB/s eta 0:00:01\r\u001b[K     |███▉                            | 122kB 3.5MB/s eta 0:00:01\r\u001b[K     |████                            | 133kB 3.5MB/s eta 0:00:01\r\u001b[K     |████▍                           | 143kB 3.5MB/s eta 0:00:01\r\u001b[K     |████▊                           | 153kB 3.5MB/s eta 0:00:01\r\u001b[K     |█████                           | 163kB 3.5MB/s eta 0:00:01\r\u001b[K     |█████▍                          | 174kB 3.5MB/s eta 0:00:01\r\u001b[K     |█████▊                          | 184kB 3.5MB/s eta 0:00:01\r\u001b[K     |██████                          | 194kB 3.5MB/s eta 0:00:01\r\u001b[K     |██████▎                         | 204kB 3.5MB/s eta 0:00:01\r\u001b[K     |██████▋                         | 215kB 3.5MB/s eta 0:00:01\r\u001b[K     |███████                         | 225kB 3.5MB/s eta 0:00:01\r\u001b[K     |███████▎                        | 235kB 3.5MB/s eta 0:00:01\r\u001b[K     |███████▋                        | 245kB 3.5MB/s eta 0:00:01\r\u001b[K     |███████▉                        | 256kB 3.5MB/s eta 0:00:01\r\u001b[K     |████████▏                       | 266kB 3.5MB/s eta 0:00:01\r\u001b[K     |████████▌                       | 276kB 3.5MB/s eta 0:00:01\r\u001b[K     |████████▉                       | 286kB 3.5MB/s eta 0:00:01\r\u001b[K     |█████████▏                      | 296kB 3.5MB/s eta 0:00:01\r\u001b[K     |█████████▌                      | 307kB 3.5MB/s eta 0:00:01\r\u001b[K     |█████████▊                      | 317kB 3.5MB/s eta 0:00:01\r\u001b[K     |██████████                      | 327kB 3.5MB/s eta 0:00:01\r\u001b[K     |██████████▍                     | 337kB 3.5MB/s eta 0:00:01\r\u001b[K     |██████████▊                     | 348kB 3.5MB/s eta 0:00:01\r\u001b[K     |███████████                     | 358kB 3.5MB/s eta 0:00:01\r\u001b[K     |███████████▍                    | 368kB 3.5MB/s eta 0:00:01\r\u001b[K     |███████████▋                    | 378kB 3.5MB/s eta 0:00:01\r\u001b[K     |████████████                    | 389kB 3.5MB/s eta 0:00:01\r\u001b[K     |████████████▎                   | 399kB 3.5MB/s eta 0:00:01\r\u001b[K     |████████████▋                   | 409kB 3.5MB/s eta 0:00:01\r\u001b[K     |█████████████                   | 419kB 3.5MB/s eta 0:00:01\r\u001b[K     |█████████████▎                  | 430kB 3.5MB/s eta 0:00:01\r\u001b[K     |█████████████▌                  | 440kB 3.5MB/s eta 0:00:01\r\u001b[K     |█████████████▉                  | 450kB 3.5MB/s eta 0:00:01\r\u001b[K     |██████████████▏                 | 460kB 3.5MB/s eta 0:00:01\r\u001b[K     |██████████████▌                 | 471kB 3.5MB/s eta 0:00:01\r\u001b[K     |██████████████▉                 | 481kB 3.5MB/s eta 0:00:01\r\u001b[K     |███████████████▏                | 491kB 3.5MB/s eta 0:00:01\r\u001b[K     |███████████████▍                | 501kB 3.5MB/s eta 0:00:01\r\u001b[K     |███████████████▊                | 512kB 3.5MB/s eta 0:00:01\r\u001b[K     |████████████████                | 522kB 3.5MB/s eta 0:00:01\r\u001b[K     |████████████████▍               | 532kB 3.5MB/s eta 0:00:01\r\u001b[K     |████████████████▊               | 542kB 3.5MB/s eta 0:00:01\r\u001b[K     |█████████████████               | 552kB 3.5MB/s eta 0:00:01\r\u001b[K     |█████████████████▎              | 563kB 3.5MB/s eta 0:00:01\r\u001b[K     |█████████████████▋              | 573kB 3.5MB/s eta 0:00:01\r\u001b[K     |██████████████████              | 583kB 3.5MB/s eta 0:00:01\r\u001b[K     |██████████████████▎             | 593kB 3.5MB/s eta 0:00:01\r\u001b[K     |██████████████████▋             | 604kB 3.5MB/s eta 0:00:01\r\u001b[K     |███████████████████             | 614kB 3.5MB/s eta 0:00:01\r\u001b[K     |███████████████████▏            | 624kB 3.5MB/s eta 0:00:01\r\u001b[K     |███████████████████▌            | 634kB 3.5MB/s eta 0:00:01\r\u001b[K     |███████████████████▉            | 645kB 3.5MB/s eta 0:00:01\r\u001b[K     |████████████████████▏           | 655kB 3.5MB/s eta 0:00:01\r\u001b[K     |████████████████████▌           | 665kB 3.5MB/s eta 0:00:01\r\u001b[K     |████████████████████▉           | 675kB 3.5MB/s eta 0:00:01\r\u001b[K     |█████████████████████▏          | 686kB 3.5MB/s eta 0:00:01\r\u001b[K     |█████████████████████▍          | 696kB 3.5MB/s eta 0:00:01\r\u001b[K     |█████████████████████▊          | 706kB 3.5MB/s eta 0:00:01\r\u001b[K     |██████████████████████          | 716kB 3.5MB/s eta 0:00:01\r\u001b[K     |██████████████████████▍         | 727kB 3.5MB/s eta 0:00:01\r\u001b[K     |██████████████████████▊         | 737kB 3.5MB/s eta 0:00:01\r\u001b[K     |███████████████████████         | 747kB 3.5MB/s eta 0:00:01\r\u001b[K     |███████████████████████▎        | 757kB 3.5MB/s eta 0:00:01\r\u001b[K     |███████████████████████▋        | 768kB 3.5MB/s eta 0:00:01\r\u001b[K     |████████████████████████        | 778kB 3.5MB/s eta 0:00:01\r\u001b[K     |████████████████████████▎       | 788kB 3.5MB/s eta 0:00:01\r\u001b[K     |████████████████████████▋       | 798kB 3.5MB/s eta 0:00:01\r\u001b[K     |█████████████████████████       | 808kB 3.5MB/s eta 0:00:01\r\u001b[K     |█████████████████████████▏      | 819kB 3.5MB/s eta 0:00:01\r\u001b[K     |█████████████████████████▌      | 829kB 3.5MB/s eta 0:00:01\r\u001b[K     |█████████████████████████▉      | 839kB 3.5MB/s eta 0:00:01\r\u001b[K     |██████████████████████████▏     | 849kB 3.5MB/s eta 0:00:01\r\u001b[K     |██████████████████████████▌     | 860kB 3.5MB/s eta 0:00:01\r\u001b[K     |██████████████████████████▉     | 870kB 3.5MB/s eta 0:00:01\r\u001b[K     |███████████████████████████     | 880kB 3.5MB/s eta 0:00:01\r\u001b[K     |███████████████████████████▍    | 890kB 3.5MB/s eta 0:00:01\r\u001b[K     |███████████████████████████▊    | 901kB 3.5MB/s eta 0:00:01\r\u001b[K     |████████████████████████████    | 911kB 3.5MB/s eta 0:00:01\r\u001b[K     |████████████████████████████▍   | 921kB 3.5MB/s eta 0:00:01\r\u001b[K     |████████████████████████████▊   | 931kB 3.5MB/s eta 0:00:01\r\u001b[K     |█████████████████████████████   | 942kB 3.5MB/s eta 0:00:01\r\u001b[K     |█████████████████████████████▎  | 952kB 3.5MB/s eta 0:00:01\r\u001b[K     |█████████████████████████████▋  | 962kB 3.5MB/s eta 0:00:01\r\u001b[K     |██████████████████████████████  | 972kB 3.5MB/s eta 0:00:01\r\u001b[K     |██████████████████████████████▎ | 983kB 3.5MB/s eta 0:00:01\r\u001b[K     |██████████████████████████████▋ | 993kB 3.5MB/s eta 0:00:01\r\u001b[K     |██████████████████████████████▉ | 1.0MB 3.5MB/s eta 0:00:01\r\u001b[K     |███████████████████████████████▏| 1.0MB 3.5MB/s eta 0:00:01\r\u001b[K     |███████████████████████████████▌| 1.0MB 3.5MB/s eta 0:00:01\r\u001b[K     |███████████████████████████████▉| 1.0MB 3.5MB/s eta 0:00:01\r\u001b[K     |████████████████████████████████| 1.0MB 3.5MB/s \n",
            "\u001b[?25hInstalling collected packages: sentencepiece\n",
            "Successfully installed sentencepiece-0.1.85\n"
          ],
          "name": "stdout"
        }
      ]
    },
    {
      "cell_type": "markdown",
      "metadata": {
        "id": "Jc2ZP9a5xCf4",
        "colab_type": "text"
      },
      "source": [
        "#### 1. Google Drive Mount\n",
        "Colab에서는 컴퓨터에 자원에 접근이 불가능 하므로 Google Drive에 파일을 올려 놓은 후 Google Drive를 mount 에서 로컬 디스크처럼 사용 합니다.\n",
        "1. 아래 블럭을 실행하면 나타나는 링크를 클릭하세요.\n",
        "2. Google 계정을 선택 하시고 허용을 누르면 나타나는 코드를 복사하여 아래 박스에 입력한 후 Enter 키를 입력하면 됩니다.\n",
        "\n",
        "학습관련 [데이터 및 결과 파일](https://drive.google.com/open?id=15XGr-L-W6DSoR5TbniPMJASPsA0IDTiN)을 참고 하세요."
      ]
    },
    {
      "cell_type": "code",
      "metadata": {
        "id": "gUe5mWs8w7rl",
        "colab_type": "code",
        "outputId": "d5cb0674-a4ea-460e-ab50-880270eaa887",
        "colab": {
          "base_uri": "https://localhost:8080/",
          "height": 122
        }
      },
      "source": [
        "from google.colab import drive\n",
        "drive.mount('/content/drive')\n",
        "# data를 저장할 폴더 입니다. 환경에 맞게 수정 하세요.\n",
        "data_dir = \"/content/drive/My Drive/Data/transformer-evolution\""
      ],
      "execution_count": 0,
      "outputs": [
        {
          "output_type": "stream",
          "text": [
            "Go to this URL in a browser: https://accounts.google.com/o/oauth2/auth?client_id=947318989803-6bn6qk8qdgf4n4g3pfee6491hc0brc4i.apps.googleusercontent.com&redirect_uri=urn%3aietf%3awg%3aoauth%3a2.0%3aoob&response_type=code&scope=email%20https%3a%2f%2fwww.googleapis.com%2fauth%2fdocs.test%20https%3a%2f%2fwww.googleapis.com%2fauth%2fdrive%20https%3a%2f%2fwww.googleapis.com%2fauth%2fdrive.photos.readonly%20https%3a%2f%2fwww.googleapis.com%2fauth%2fpeopleapi.readonly\n",
            "\n",
            "Enter your authorization code:\n",
            "··········\n",
            "Mounted at /content/drive\n"
          ],
          "name": "stdout"
        }
      ]
    },
    {
      "cell_type": "markdown",
      "metadata": {
        "id": "7H61xHhCyzdK",
        "colab_type": "text"
      },
      "source": [
        "#### 2. Imports\n"
      ]
    },
    {
      "cell_type": "code",
      "metadata": {
        "id": "EIX90f9oy45b",
        "colab_type": "code",
        "colab": {}
      },
      "source": [
        "import os\n",
        "import gzip\n",
        "import pandas as pd\n",
        "import sentencepiece as spm\n",
        "import shutil"
      ],
      "execution_count": 0,
      "outputs": []
    },
    {
      "cell_type": "markdown",
      "metadata": {
        "id": "yD8RxI2Hzjot",
        "colab_type": "text"
      },
      "source": [
        "#### 3. 폴더의 목록을 확인\n",
        "Google Drive mount가 잘 되었는지 확인하기 위해 data_dir 목록을 확인 합니다."
      ]
    },
    {
      "cell_type": "code",
      "metadata": {
        "id": "8kx9Fiqzyxpc",
        "colab_type": "code",
        "outputId": "fee71d7e-64dc-4f23-9448-f8dd41f64d75",
        "colab": {
          "base_uri": "https://localhost:8080/",
          "height": 136
        }
      },
      "source": [
        "for f in os.listdir(data_dir):\n",
        "  print(f)"
      ],
      "execution_count": 0,
      "outputs": [
        {
          "output_type": "stream",
          "text": [
            "kowiki.csv.gz\n",
            "kowiki.model\n",
            "kowiki.vocab\n",
            "ratings_train.txt\n",
            "ratings_test.txt\n",
            "ratings_train.json\n",
            "ratings_test.json\n"
          ],
          "name": "stdout"
        }
      ]
    },
    {
      "cell_type": "markdown",
      "metadata": {
        "id": "BRpwnHUI1PQG",
        "colab_type": "text"
      },
      "source": [
        "#### 4. CSV 파일을 TEXT 형태로 변환\n",
        "Google SentencePiece에서 사용할 수 있도록 CSV를 TEXT형태로 변환 합니다."
      ]
    },
    {
      "cell_type": "code",
      "metadata": {
        "id": "HctSmjfU1fS2",
        "colab_type": "code",
        "outputId": "ca54a270-0d7d-47aa-9df3-9d3da595f85c",
        "colab": {
          "base_uri": "https://localhost:8080/",
          "height": 34
        }
      },
      "source": [
        "in_file = f\"{data_dir}/kowiki.csv.gz\"\n",
        "out_file = f\"{data_dir}/kowiki.txt\"\n",
        "SEPARATOR = u\"\\u241D\"\n",
        "\n",
        "if not os.path.isfile(out_file):\n",
        "    df = pd.read_csv(in_file, sep=SEPARATOR, engine=\"python\", compression='gzip')\n",
        "    with open(out_file, \"w\") as f:\n",
        "      for index, row in df.iterrows():\n",
        "        f.write(row[\"text\"]) # title 과 text를 중복 되므로 text만 저장 함\n",
        "        f.write(\"\\n\\n\\n\\n\") # 구분자\n",
        "\n",
        "shutil.copy(out_file, \"kowiki.txt\")"
      ],
      "execution_count": 0,
      "outputs": [
        {
          "output_type": "execute_result",
          "data": {
            "text/plain": [
              "'kowiki.txt'"
            ]
          },
          "metadata": {
            "tags": []
          },
          "execution_count": 8
        }
      ]
    },
    {
      "cell_type": "markdown",
      "metadata": {
        "id": "_VWlIEZL_9jh",
        "colab_type": "text"
      },
      "source": [
        "#### 5. Vocab 생성\n",
        "Google SentencePiece를 이용해서 vocab 만드는 방법 입니다. vocab을 만드는데 많은 시간이 소요 됩니다. 잠시 여유를 갖고 기다려 주세요."
      ]
    },
    {
      "cell_type": "code",
      "metadata": {
        "id": "Ago_Qw34APbA",
        "colab_type": "code",
        "outputId": "661e3a59-fe16-4261-e5ca-04a8fdcd5cf9",
        "colab": {
          "base_uri": "https://localhost:8080/",
          "height": 136
        }
      },
      "source": [
        "corpus = \"kowiki.txt\"\n",
        "prefix = \"kowiki\"\n",
        "vocab_size = 8000\n",
        "spm.SentencePieceTrainer.train(\n",
        "    f\"--input={corpus} --model_prefix={prefix} --vocab_size={vocab_size + 7}\" + \n",
        "    \" --model_type=bpe\" +\n",
        "    \" --max_sentence_length=999999\" + # 문장 최대 길이\n",
        "    \" --pad_id=0 --pad_piece=[PAD]\" + # pad (0)\n",
        "    \" --unk_id=1 --unk_piece=[UNK]\" + # unknown (1)\n",
        "    \" --bos_id=2 --bos_piece=[BOS]\" + # begin of sequence (2)\n",
        "    \" --eos_id=3 --eos_piece=[EOS]\" + # end of sequence (3)\n",
        "    \" --user_defined_symbols=[SEP],[CLS],[MASK]\") # 기타 추가 토큰\n",
        "\n",
        "for f in os.listdir(\".\"):\n",
        "  print(f)\n",
        "shutil.copy(\"kowiki.model\", f\"{data_dir}/kowiki.model\")\n",
        "shutil.copy(\"kowiki.vocab\", f\"{data_dir}/kowiki.vocab\")"
      ],
      "execution_count": 0,
      "outputs": [
        {
          "output_type": "stream",
          "text": [
            ".config\n",
            "kowiki.txt\n",
            "drive\n",
            "kowiki.model\n",
            "kowiki.vocab\n",
            "sample_data\n"
          ],
          "name": "stdout"
        },
        {
          "output_type": "execute_result",
          "data": {
            "text/plain": [
              "'/content/drive/My Drive/Data/transformer-evolution/kowiki.vocab'"
            ]
          },
          "metadata": {
            "tags": []
          },
          "execution_count": 5
        }
      ]
    },
    {
      "cell_type": "markdown",
      "metadata": {
        "id": "YEjtyIBRTHVo",
        "colab_type": "text"
      },
      "source": [
        "#### 6. Vocab 테스트\n",
        "생성된 vocab을 간단하게 테스트 해 봅니다."
      ]
    },
    {
      "cell_type": "code",
      "metadata": {
        "id": "qa7iTqO3MrKg",
        "colab_type": "code",
        "outputId": "0625df38-8a45-4454-a430-209cc6145839",
        "colab": {
          "base_uri": "https://localhost:8080/",
          "height": 221
        }
      },
      "source": [
        "vocab_file = f\"{data_dir}/kowiki.model\"\n",
        "vocab = spm.SentencePieceProcessor()\n",
        "vocab.load(vocab_file)\n",
        "\n",
        "lines = [\n",
        "  \"겨울이 되어서 날씨가 무척 추워요.\",\n",
        "  \"이번 성탄절은 화이트 크리스마스가 될까요?\",\n",
        "  \"겨울에 감기 조심하시고 행복한 연말 되세요.\"\n",
        "]\n",
        "for line in lines:\n",
        "  pieces = vocab.encode_as_pieces(line)\n",
        "  ids = vocab.encode_as_ids(line)\n",
        "  print(line)\n",
        "  print(pieces)\n",
        "  print(ids)\n",
        "  print()"
      ],
      "execution_count": 0,
      "outputs": [
        {
          "output_type": "stream",
          "text": [
            "겨울이 되어서 날씨가 무척 추워요.\n",
            "['▁겨울', '이', '▁되어', '서', '▁날', '씨', '가', '▁무', '척', '▁추', '워', '요', '.']\n",
            "[3091, 3588, 601, 3602, 683, 4014, 3599, 108, 4193, 206, 3958, 3760, 3590]\n",
            "\n",
            "이번 성탄절은 화이트 크리스마스가 될까요?\n",
            "['▁이번', '▁성', '탄', '절', '은', '▁화', '이트', '▁크리스', '마', '스가', '▁될', '까', '요', '?']\n",
            "[3224, 86, 3967, 3923, 3604, 264, 669, 1970, 3664, 780, 1450, 3794, 3760, 4245]\n",
            "\n",
            "겨울에 감기 조심하시고 행복한 연말 되세요.\n",
            "['▁겨울', '에', '▁감', '기', '▁조', '심', '하', '시', '고', '▁행', '복', '한', '▁연', '말', '▁되', '세', '요', '.']\n",
            "[3091, 3591, 212, 3605, 53, 3832, 3596, 3613, 3600, 234, 3871, 3603, 61, 3823, 445, 3682, 3760, 3590]\n",
            "\n"
          ],
          "name": "stdout"
        }
      ]
    }
  ]
}