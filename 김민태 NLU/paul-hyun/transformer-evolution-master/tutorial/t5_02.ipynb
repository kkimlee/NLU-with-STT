{
  "nbformat": 4,
  "nbformat_minor": 0,
  "metadata": {
    "colab": {
      "name": "t5-02.ipynb",
      "provenance": [],
      "collapsed_sections": []
    },
    "kernelspec": {
      "name": "python3",
      "display_name": "Python 3"
    },
    "accelerator": "GPU"
  },
  "cells": [
    {
      "cell_type": "markdown",
      "metadata": {
        "id": "Zfpg-n2gNgtB",
        "colab_type": "text"
      },
      "source": [
        "## T5 구현 과정 (2/2)\n",
        "T5 모델 구현에 대한 설명 입니다.\n",
        "\n",
        "이 내용을 확인하기 전 아래 내용을 확인하시기 바랍니다.\n",
        "- [Sentencepiece를 활용해 Vocab 만들기](https://paul-hyun.github.io/vocab-with-sentencepiece/)\n",
        "- [Naver 영화리뷰 감정분석 데이터 전처리 하기](https://paul-hyun.github.io/preprocess-nsmc/)\n",
        "- [Transformer (Attention Is All You Need) 구현하기 (1/3)](https://paul-hyun.github.io/transformer-01/)\n",
        "- [Transformer (Attention Is All You Need) 구현하기 (2/3)](https://paul-hyun.github.io/transformer-02/)\n",
        "- [Transformer (Attention Is All You Need) 구현하기 (3/3)](https://paul-hyun.github.io/transformer-03/)\n",
        "\n",
        "\n",
        "[Colab](https://colab.research.google.com/)에서 실행 했습니다."
      ]
    },
    {
      "cell_type": "markdown",
      "metadata": {
        "id": "b4fLocKzS8qH",
        "colab_type": "text"
      },
      "source": [
        "#### 0. Pip Install\n",
        "필요한 패키지를 pip를 이용해서 설치합니다."
      ]
    },
    {
      "cell_type": "code",
      "metadata": {
        "id": "gP4qW5w6TAXe",
        "colab_type": "code",
        "outputId": "cf6f57fd-9c01-4b48-d479-72852e0cac5c",
        "colab": {
          "base_uri": "https://localhost:8080/",
          "height": 255
        }
      },
      "source": [
        "!pip install sentencepiece\n",
        "!pip install wget"
      ],
      "execution_count": 1,
      "outputs": [
        {
          "output_type": "stream",
          "text": [
            "Collecting sentencepiece\n",
            "\u001b[?25l  Downloading https://files.pythonhosted.org/packages/74/f4/2d5214cbf13d06e7cb2c20d84115ca25b53ea76fa1f0ade0e3c9749de214/sentencepiece-0.1.85-cp36-cp36m-manylinux1_x86_64.whl (1.0MB)\n",
            "\r\u001b[K     |▎                               | 10kB 12.9MB/s eta 0:00:01\r\u001b[K     |▋                               | 20kB 5.2MB/s eta 0:00:01\r\u001b[K     |█                               | 30kB 7.0MB/s eta 0:00:01\r\u001b[K     |█▎                              | 40kB 6.8MB/s eta 0:00:01\r\u001b[K     |█▋                              | 51kB 5.7MB/s eta 0:00:01\r\u001b[K     |██                              | 61kB 5.9MB/s eta 0:00:01\r\u001b[K     |██▏                             | 71kB 6.4MB/s eta 0:00:01\r\u001b[K     |██▌                             | 81kB 7.2MB/s eta 0:00:01\r\u001b[K     |██▉                             | 92kB 7.6MB/s eta 0:00:01\r\u001b[K     |███▏                            | 102kB 7.0MB/s eta 0:00:01\r\u001b[K     |███▌                            | 112kB 7.0MB/s eta 0:00:01\r\u001b[K     |███▉                            | 122kB 7.0MB/s eta 0:00:01\r\u001b[K     |████                            | 133kB 7.0MB/s eta 0:00:01\r\u001b[K     |████▍                           | 143kB 7.0MB/s eta 0:00:01\r\u001b[K     |████▊                           | 153kB 7.0MB/s eta 0:00:01\r\u001b[K     |█████                           | 163kB 7.0MB/s eta 0:00:01\r\u001b[K     |█████▍                          | 174kB 7.0MB/s eta 0:00:01\r\u001b[K     |█████▊                          | 184kB 7.0MB/s eta 0:00:01\r\u001b[K     |██████                          | 194kB 7.0MB/s eta 0:00:01\r\u001b[K     |██████▎                         | 204kB 7.0MB/s eta 0:00:01\r\u001b[K     |██████▋                         | 215kB 7.0MB/s eta 0:00:01\r\u001b[K     |███████                         | 225kB 7.0MB/s eta 0:00:01\r\u001b[K     |███████▎                        | 235kB 7.0MB/s eta 0:00:01\r\u001b[K     |███████▋                        | 245kB 7.0MB/s eta 0:00:01\r\u001b[K     |███████▉                        | 256kB 7.0MB/s eta 0:00:01\r\u001b[K     |████████▏                       | 266kB 7.0MB/s eta 0:00:01\r\u001b[K     |████████▌                       | 276kB 7.0MB/s eta 0:00:01\r\u001b[K     |████████▉                       | 286kB 7.0MB/s eta 0:00:01\r\u001b[K     |█████████▏                      | 296kB 7.0MB/s eta 0:00:01\r\u001b[K     |█████████▌                      | 307kB 7.0MB/s eta 0:00:01\r\u001b[K     |█████████▊                      | 317kB 7.0MB/s eta 0:00:01\r\u001b[K     |██████████                      | 327kB 7.0MB/s eta 0:00:01\r\u001b[K     |██████████▍                     | 337kB 7.0MB/s eta 0:00:01\r\u001b[K     |██████████▊                     | 348kB 7.0MB/s eta 0:00:01\r\u001b[K     |███████████                     | 358kB 7.0MB/s eta 0:00:01\r\u001b[K     |███████████▍                    | 368kB 7.0MB/s eta 0:00:01\r\u001b[K     |███████████▋                    | 378kB 7.0MB/s eta 0:00:01\r\u001b[K     |████████████                    | 389kB 7.0MB/s eta 0:00:01\r\u001b[K     |████████████▎                   | 399kB 7.0MB/s eta 0:00:01\r\u001b[K     |████████████▋                   | 409kB 7.0MB/s eta 0:00:01\r\u001b[K     |█████████████                   | 419kB 7.0MB/s eta 0:00:01\r\u001b[K     |█████████████▎                  | 430kB 7.0MB/s eta 0:00:01\r\u001b[K     |█████████████▌                  | 440kB 7.0MB/s eta 0:00:01\r\u001b[K     |█████████████▉                  | 450kB 7.0MB/s eta 0:00:01\r\u001b[K     |██████████████▏                 | 460kB 7.0MB/s eta 0:00:01\r\u001b[K     |██████████████▌                 | 471kB 7.0MB/s eta 0:00:01\r\u001b[K     |██████████████▉                 | 481kB 7.0MB/s eta 0:00:01\r\u001b[K     |███████████████▏                | 491kB 7.0MB/s eta 0:00:01\r\u001b[K     |███████████████▍                | 501kB 7.0MB/s eta 0:00:01\r\u001b[K     |███████████████▊                | 512kB 7.0MB/s eta 0:00:01\r\u001b[K     |████████████████                | 522kB 7.0MB/s eta 0:00:01\r\u001b[K     |████████████████▍               | 532kB 7.0MB/s eta 0:00:01\r\u001b[K     |████████████████▊               | 542kB 7.0MB/s eta 0:00:01\r\u001b[K     |█████████████████               | 552kB 7.0MB/s eta 0:00:01\r\u001b[K     |█████████████████▎              | 563kB 7.0MB/s eta 0:00:01\r\u001b[K     |█████████████████▋              | 573kB 7.0MB/s eta 0:00:01\r\u001b[K     |██████████████████              | 583kB 7.0MB/s eta 0:00:01\r\u001b[K     |██████████████████▎             | 593kB 7.0MB/s eta 0:00:01\r\u001b[K     |██████████████████▋             | 604kB 7.0MB/s eta 0:00:01\r\u001b[K     |███████████████████             | 614kB 7.0MB/s eta 0:00:01\r\u001b[K     |███████████████████▏            | 624kB 7.0MB/s eta 0:00:01\r\u001b[K     |███████████████████▌            | 634kB 7.0MB/s eta 0:00:01\r\u001b[K     |███████████████████▉            | 645kB 7.0MB/s eta 0:00:01\r\u001b[K     |████████████████████▏           | 655kB 7.0MB/s eta 0:00:01\r\u001b[K     |████████████████████▌           | 665kB 7.0MB/s eta 0:00:01\r\u001b[K     |████████████████████▉           | 675kB 7.0MB/s eta 0:00:01\r\u001b[K     |█████████████████████▏          | 686kB 7.0MB/s eta 0:00:01\r\u001b[K     |█████████████████████▍          | 696kB 7.0MB/s eta 0:00:01\r\u001b[K     |█████████████████████▊          | 706kB 7.0MB/s eta 0:00:01\r\u001b[K     |██████████████████████          | 716kB 7.0MB/s eta 0:00:01\r\u001b[K     |██████████████████████▍         | 727kB 7.0MB/s eta 0:00:01\r\u001b[K     |██████████████████████▊         | 737kB 7.0MB/s eta 0:00:01\r\u001b[K     |███████████████████████         | 747kB 7.0MB/s eta 0:00:01\r\u001b[K     |███████████████████████▎        | 757kB 7.0MB/s eta 0:00:01\r\u001b[K     |███████████████████████▋        | 768kB 7.0MB/s eta 0:00:01\r\u001b[K     |████████████████████████        | 778kB 7.0MB/s eta 0:00:01\r\u001b[K     |████████████████████████▎       | 788kB 7.0MB/s eta 0:00:01\r\u001b[K     |████████████████████████▋       | 798kB 7.0MB/s eta 0:00:01\r\u001b[K     |█████████████████████████       | 808kB 7.0MB/s eta 0:00:01\r\u001b[K     |█████████████████████████▏      | 819kB 7.0MB/s eta 0:00:01\r\u001b[K     |█████████████████████████▌      | 829kB 7.0MB/s eta 0:00:01\r\u001b[K     |█████████████████████████▉      | 839kB 7.0MB/s eta 0:00:01\r\u001b[K     |██████████████████████████▏     | 849kB 7.0MB/s eta 0:00:01\r\u001b[K     |██████████████████████████▌     | 860kB 7.0MB/s eta 0:00:01\r\u001b[K     |██████████████████████████▉     | 870kB 7.0MB/s eta 0:00:01\r\u001b[K     |███████████████████████████     | 880kB 7.0MB/s eta 0:00:01\r\u001b[K     |███████████████████████████▍    | 890kB 7.0MB/s eta 0:00:01\r\u001b[K     |███████████████████████████▊    | 901kB 7.0MB/s eta 0:00:01\r\u001b[K     |████████████████████████████    | 911kB 7.0MB/s eta 0:00:01\r\u001b[K     |████████████████████████████▍   | 921kB 7.0MB/s eta 0:00:01\r\u001b[K     |████████████████████████████▊   | 931kB 7.0MB/s eta 0:00:01\r\u001b[K     |█████████████████████████████   | 942kB 7.0MB/s eta 0:00:01\r\u001b[K     |█████████████████████████████▎  | 952kB 7.0MB/s eta 0:00:01\r\u001b[K     |█████████████████████████████▋  | 962kB 7.0MB/s eta 0:00:01\r\u001b[K     |██████████████████████████████  | 972kB 7.0MB/s eta 0:00:01\r\u001b[K     |██████████████████████████████▎ | 983kB 7.0MB/s eta 0:00:01\r\u001b[K     |██████████████████████████████▋ | 993kB 7.0MB/s eta 0:00:01\r\u001b[K     |██████████████████████████████▉ | 1.0MB 7.0MB/s eta 0:00:01\r\u001b[K     |███████████████████████████████▏| 1.0MB 7.0MB/s eta 0:00:01\r\u001b[K     |███████████████████████████████▌| 1.0MB 7.0MB/s eta 0:00:01\r\u001b[K     |███████████████████████████████▉| 1.0MB 7.0MB/s eta 0:00:01\r\u001b[K     |████████████████████████████████| 1.0MB 7.0MB/s \n",
            "\u001b[?25hInstalling collected packages: sentencepiece\n",
            "Successfully installed sentencepiece-0.1.85\n",
            "Collecting wget\n",
            "  Downloading https://files.pythonhosted.org/packages/47/6a/62e288da7bcda82b935ff0c6cfe542970f04e29c756b0e147251b2fb251f/wget-3.2.zip\n",
            "Building wheels for collected packages: wget\n",
            "  Building wheel for wget (setup.py) ... \u001b[?25l\u001b[?25hdone\n",
            "  Created wheel for wget: filename=wget-3.2-cp36-none-any.whl size=9682 sha256=e6a25da026f33947edcc73153385c40ae8e7758d46d8f60b791be74527c547d7\n",
            "  Stored in directory: /root/.cache/pip/wheels/40/15/30/7d8f7cea2902b4db79e3fea550d7d7b85ecb27ef992b618f3f\n",
            "Successfully built wget\n",
            "Installing collected packages: wget\n",
            "Successfully installed wget-3.2\n"
          ],
          "name": "stdout"
        }
      ]
    },
    {
      "cell_type": "markdown",
      "metadata": {
        "id": "XZs93qCwS_bM",
        "colab_type": "text"
      },
      "source": [
        "#### 1. Google Drive Mount\n",
        "Colab에서는 컴퓨터에 자원에 접근이 불가능 하므로 Google Drive에 파일을 올려 놓은 후 Google Drive를 mount 에서 로컬 디스크처럼 사용 합니다.\n",
        "1. 아래 블럭을 실행하면 나타나는 링크를 클릭하세요.\n",
        "2. Google 계정을 선택 하시고 허용을 누르면 나타나는 코드를 복사하여 아래 박스에 입력한 후 Enter 키를 입력하면 됩니다.\n",
        "\n",
        "학습관련 [데이터 및 결과 파일](https://drive.google.com/open?id=15XGr-L-W6DSoR5TbniPMJASPsA0IDTiN)을 참고 하세요."
      ]
    },
    {
      "cell_type": "code",
      "metadata": {
        "id": "1XR4LcDdNfnW",
        "colab_type": "code",
        "outputId": "d78ec3c2-2f63-4af6-bc5e-2394f7784d8a",
        "colab": {
          "base_uri": "https://localhost:8080/",
          "height": 122
        }
      },
      "source": [
        "from google.colab import drive\n",
        "drive.mount('/content/drive')\n",
        "# data를 저장할 폴더 입니다. 환경에 맞게 수정 하세요.\n",
        "data_dir = \"/content/drive/My Drive/Data/transformer-evolution\""
      ],
      "execution_count": 2,
      "outputs": [
        {
          "output_type": "stream",
          "text": [
            "Go to this URL in a browser: https://accounts.google.com/o/oauth2/auth?client_id=947318989803-6bn6qk8qdgf4n4g3pfee6491hc0brc4i.apps.googleusercontent.com&redirect_uri=urn%3aietf%3awg%3aoauth%3a2.0%3aoob&response_type=code&scope=email%20https%3a%2f%2fwww.googleapis.com%2fauth%2fdocs.test%20https%3a%2f%2fwww.googleapis.com%2fauth%2fdrive%20https%3a%2f%2fwww.googleapis.com%2fauth%2fdrive.photos.readonly%20https%3a%2f%2fwww.googleapis.com%2fauth%2fpeopleapi.readonly\n",
            "\n",
            "Enter your authorization code:\n",
            "··········\n",
            "Mounted at /content/drive\n"
          ],
          "name": "stdout"
        }
      ]
    },
    {
      "cell_type": "markdown",
      "metadata": {
        "id": "FMgpP6fjTJF8",
        "colab_type": "text"
      },
      "source": [
        "#### 2. Imports"
      ]
    },
    {
      "cell_type": "code",
      "metadata": {
        "id": "KRgT80wpTJiO",
        "colab_type": "code",
        "colab": {}
      },
      "source": [
        "import os\n",
        "import numpy as np\n",
        "import math\n",
        "import matplotlib.pyplot as plt\n",
        "import json\n",
        "import pandas as pd\n",
        "from IPython.display import display\n",
        "from tqdm import tqdm, tqdm_notebook, trange\n",
        "import sentencepiece as spm\n",
        "import wget\n",
        "\n",
        "import torch\n",
        "import torch.nn as nn\n",
        "import torch.nn.functional as F"
      ],
      "execution_count": 0,
      "outputs": []
    },
    {
      "cell_type": "markdown",
      "metadata": {
        "id": "KRrdaSJ_TNAf",
        "colab_type": "text"
      },
      "source": [
        "#### 3. 폴더의 목록을 확인\n",
        "Google Drive mount가 잘 되었는지 확인하기 위해 data_dir 목록을 확인 합니다."
      ]
    },
    {
      "cell_type": "code",
      "metadata": {
        "id": "QfWB9L0_TQlP",
        "colab_type": "code",
        "outputId": "d3d7ac1a-0dfd-4a0c-a9bb-3c2f432f4792",
        "colab": {
          "base_uri": "https://localhost:8080/",
          "height": 289
        }
      },
      "source": [
        "for f in os.listdir(data_dir):\n",
        "  print(f)"
      ],
      "execution_count": 4,
      "outputs": [
        {
          "output_type": "stream",
          "text": [
            "kowiki.csv.gz\n",
            "kowiki.model\n",
            "kowiki.vocab\n",
            "ratings_train.txt\n",
            "ratings_test.txt\n",
            "ratings_train.json\n",
            "ratings_test.json\n",
            "kowiki.txt\n",
            "kowiki_gpt.json\n",
            "save_gpt_pretrain.pth\n",
            "kowiki_bert_0.json\n",
            "save_bert_pretrain.pth\n",
            "kowiki_t5.model\n",
            "kowiki_t5.vocab\n",
            "kowiki_t5_0.json\n",
            "save_t5_pretrain.pth\n"
          ],
          "name": "stdout"
        }
      ]
    },
    {
      "cell_type": "markdown",
      "metadata": {
        "id": "yUOwhKMyTXNQ",
        "colab_type": "text"
      },
      "source": [
        "#### 4. Vocab 및 입력\n",
        "\n",
        "[Sentencepiece를 활용해 Vocab 만들기](https://paul-hyun.github.io/vocab-with-sentencepiece/)를 통해 만들어 놓은 vocab을 로딩 합니다."
      ]
    },
    {
      "cell_type": "code",
      "metadata": {
        "id": "1LX6VgIkTaKV",
        "colab_type": "code",
        "outputId": "79b07054-6ed5-4ae0-f5b5-256aa96f7e34",
        "colab": {
          "base_uri": "https://localhost:8080/",
          "height": 34
        }
      },
      "source": [
        "# vocab loading\n",
        "vocab_file = f\"{data_dir}/kowiki_t5.model\"\n",
        "vocab = spm.SentencePieceProcessor()\n",
        "vocab.load(vocab_file)"
      ],
      "execution_count": 14,
      "outputs": [
        {
          "output_type": "execute_result",
          "data": {
            "text/plain": [
              "True"
            ]
          },
          "metadata": {
            "tags": []
          },
          "execution_count": 14
        }
      ]
    },
    {
      "cell_type": "markdown",
      "metadata": {
        "id": "LMgziU4ATcyN",
        "colab_type": "text"
      },
      "source": [
        "#### 5. Config\n",
        "\n",
        "모델에 설정 값을 전달하기 위한 config를 만듭니다."
      ]
    },
    {
      "cell_type": "code",
      "metadata": {
        "id": "GDcRg9V0Tdc1",
        "colab_type": "code",
        "colab": {}
      },
      "source": [
        "\"\"\" configuration json을 읽어들이는 class \"\"\"\n",
        "class Config(dict): \n",
        "    __getattr__ = dict.__getitem__\n",
        "    __setattr__ = dict.__setitem__\n",
        "\n",
        "    @classmethod\n",
        "    def load(cls, file):\n",
        "        with open(file, 'r') as f:\n",
        "            config = json.loads(f.read())\n",
        "            return Config(config)"
      ],
      "execution_count": 0,
      "outputs": []
    },
    {
      "cell_type": "code",
      "metadata": {
        "id": "JUztpEf6Tfx1",
        "colab_type": "code",
        "outputId": "f4b2333e-619b-498c-996b-c2c94ac0b1f6",
        "colab": {
          "base_uri": "https://localhost:8080/",
          "height": 34
        }
      },
      "source": [
        "config = Config({\n",
        "    \"n_vocab\": len(vocab),\n",
        "    \"n_seq\": 256,\n",
        "    \"n_layer\": 6,\n",
        "    \"d_hidn\": 256,\n",
        "    \"i_pad\": 0,\n",
        "    \"d_ff\": 1024,\n",
        "    \"n_head\": 4,\n",
        "    \"d_head\": 64,\n",
        "    \"dropout\": 0.1,\n",
        "    \"layer_norm_epsilon\": 1e-12\n",
        "})\n",
        "print(config)"
      ],
      "execution_count": 7,
      "outputs": [
        {
          "output_type": "stream",
          "text": [
            "{'n_vocab': 8033, 'n_seq': 256, 'n_layer': 6, 'd_hidn': 256, 'i_pad': 0, 'd_ff': 1024, 'n_head': 4, 'd_head': 64, 'dropout': 0.1, 'layer_norm_epsilon': 1e-12}\n"
          ],
          "name": "stdout"
        }
      ]
    },
    {
      "cell_type": "markdown",
      "metadata": {
        "id": "j93X24LtTijG",
        "colab_type": "text"
      },
      "source": [
        "#### 6. T5\n",
        "\n",
        "T5 Class 및 함수 입니다."
      ]
    },
    {
      "cell_type": "code",
      "metadata": {
        "id": "z_41WubQUImx",
        "colab_type": "code",
        "colab": {}
      },
      "source": [
        "\"\"\" attention pad mask \"\"\"\n",
        "def get_attn_pad_mask(seq_q, seq_k, i_pad):\n",
        "    batch_size, len_q = seq_q.size()\n",
        "    batch_size, len_k = seq_k.size()\n",
        "    pad_attn_mask = seq_k.data.eq(i_pad).unsqueeze(1).expand(batch_size, len_q, len_k)  # <pad>\n",
        "    return pad_attn_mask\n",
        "\n",
        "\n",
        "\"\"\" attention decoder mask \"\"\"\n",
        "def get_attn_decoder_mask(seq):\n",
        "    subsequent_mask = torch.ones_like(seq).unsqueeze(-1).expand(seq.size(0), seq.size(1), seq.size(1))\n",
        "    subsequent_mask = subsequent_mask.triu(diagonal=1) # upper triangular part of a matrix(2-D)\n",
        "    return subsequent_mask\n",
        "\n",
        "\n",
        "\"\"\" scale dot product attention \"\"\"\n",
        "class ScaledDotProductAttention(nn.Module):\n",
        "    def __init__(self, config):\n",
        "        super().__init__()\n",
        "        self.config = config\n",
        "        self.dropout = nn.Dropout(config.dropout)\n",
        "        self.scale = 1 / (self.config.d_head ** 0.5)\n",
        "        self.num_buckets = 32\n",
        "        self.relative_attention_bias = torch.nn.Embedding(self.num_buckets, self.config.n_head)\n",
        "    \n",
        "    def forward(self, Q, K, V, attn_mask, bidirectional=True):\n",
        "        qlen, klen = Q.size(-2), K.size(-2)\n",
        "        # (bs, n_head, n_q_seq, n_k_seq)\n",
        "        scores = torch.matmul(Q, K.transpose(-1, -2)).mul_(self.scale)\n",
        "        # (1, n_head, n_q_seq, n_k_seq)\n",
        "        position_bias = self.compute_bias(qlen, klen, bidirectional=bidirectional)\n",
        "        scores += position_bias\n",
        "        scores.masked_fill_(attn_mask, -1e9)\n",
        "        # (bs, n_head, n_q_seq, n_k_seq)\n",
        "        attn_prob = nn.Softmax(dim=-1)(scores)\n",
        "        attn_prob = self.dropout(attn_prob)\n",
        "        # (bs, n_head, n_q_seq, d_v)\n",
        "        context = torch.matmul(attn_prob, V)\n",
        "        # (bs, n_head, n_q_seq, d_v), (bs, n_head, n_q_seq, n_v_seq)\n",
        "        return context, attn_prob\n",
        "    \n",
        "    def compute_bias(self, qlen, klen, bidirectional=True):\n",
        "        context_position = torch.arange(qlen, dtype=torch.long)[:, None]\n",
        "        memory_position = torch.arange(klen, dtype=torch.long)[None, :]\n",
        "        # (qlen, klen)\n",
        "        relative_position = memory_position - context_position\n",
        "        # (qlen, klen)\n",
        "        rp_bucket = self._relative_position_bucket(\n",
        "            relative_position,  # shape (qlen, klen)\n",
        "            num_buckets=self.num_buckets,\n",
        "            bidirectional=bidirectional\n",
        "        )\n",
        "        # (qlen, klen)\n",
        "        rp_bucket = rp_bucket.to(self.relative_attention_bias.weight.device)\n",
        "        # (qlen, klen, n_head)\n",
        "        values = self.relative_attention_bias(rp_bucket)\n",
        "        # (1, n_head, qlen, klen)\n",
        "        values = values.permute([2, 0, 1]).unsqueeze(0)\n",
        "        return values\n",
        "\n",
        "    def _relative_position_bucket(self, relative_position, bidirectional=True, num_buckets=32, max_distance=128):\n",
        "        ret = 0\n",
        "        n = -relative_position\n",
        "        if bidirectional:\n",
        "            num_buckets //= 2\n",
        "            ret += (n < 0).to(torch.long) * num_buckets  # mtf.to_int32(mtf.less(n, 0)) * num_buckets\n",
        "            n = torch.abs(n)\n",
        "        else:\n",
        "            n = torch.max(n, torch.zeros_like(n))\n",
        "\n",
        "        # half of the buckets are for exact increments in positions\n",
        "        max_exact = num_buckets // 2\n",
        "        is_small = n < max_exact\n",
        "\n",
        "        # The other half of the buckets are for logarithmically bigger bins in positions up to max_distance\n",
        "        val_if_large = max_exact + (\n",
        "                torch.log(n.float() / max_exact) / math.log(max_distance / max_exact) * (num_buckets - max_exact)\n",
        "        ).to(torch.long)\n",
        "        val_if_large = torch.min(val_if_large, torch.full_like(val_if_large, num_buckets - 1))\n",
        "\n",
        "        ret += torch.where(is_small, n, val_if_large)\n",
        "        return ret\n",
        "\n",
        "\n",
        "\"\"\" multi head attention \"\"\"\n",
        "class MultiHeadAttention(nn.Module):\n",
        "    def __init__(self, config):\n",
        "        super().__init__()\n",
        "        self.config = config\n",
        "\n",
        "        self.W_Q = nn.Linear(self.config.d_hidn, self.config.n_head * self.config.d_head)\n",
        "        self.W_K = nn.Linear(self.config.d_hidn, self.config.n_head * self.config.d_head)\n",
        "        self.W_V = nn.Linear(self.config.d_hidn, self.config.n_head * self.config.d_head)\n",
        "        self.scaled_dot_attn = ScaledDotProductAttention(self.config)\n",
        "        self.linear = nn.Linear(self.config.n_head * self.config.d_head, self.config.d_hidn)\n",
        "        self.dropout = nn.Dropout(config.dropout)\n",
        "    \n",
        "    def forward(self, Q, K, V, attn_mask, bidirectional=False):\n",
        "        batch_size = Q.size(0)\n",
        "        # (bs, n_head, n_q_seq, d_head)\n",
        "        q_s = self.W_Q(Q).view(batch_size, -1, self.config.n_head, self.config.d_head).transpose(1,2)\n",
        "        # (bs, n_head, n_k_seq, d_head)\n",
        "        k_s = self.W_K(K).view(batch_size, -1, self.config.n_head, self.config.d_head).transpose(1,2)\n",
        "        # (bs, n_head, n_v_seq, d_head)\n",
        "        v_s = self.W_V(V).view(batch_size, -1, self.config.n_head, self.config.d_head).transpose(1,2)\n",
        "\n",
        "        # (bs, n_head, n_q_seq, n_k_seq)\n",
        "        attn_mask = attn_mask.unsqueeze(1).repeat(1, self.config.n_head, 1, 1)\n",
        "\n",
        "        # (bs, n_head, n_q_seq, d_head), (bs, n_head, n_q_seq, n_k_seq)\n",
        "        context, attn_prob = self.scaled_dot_attn(q_s, k_s, v_s, attn_mask, bidirectional=bidirectional)\n",
        "        # (bs, n_head, n_q_seq, h_head * d_head)\n",
        "        context = context.transpose(1, 2).contiguous().view(batch_size, -1, self.config.n_head * self.config.d_head)\n",
        "        # (bs, n_head, n_q_seq, e_embd)\n",
        "        output = self.linear(context)\n",
        "        output = self.dropout(output)\n",
        "        # (bs, n_q_seq, d_hidn), (bs, n_head, n_q_seq, n_k_seq)\n",
        "        return output, attn_prob\n",
        "\n",
        "\n",
        "\"\"\" feed forward \"\"\"\n",
        "class PoswiseFeedForwardNet(nn.Module):\n",
        "    def __init__(self, config):\n",
        "        super().__init__()\n",
        "        self.config = config\n",
        "\n",
        "        self.conv1 = nn.Conv1d(in_channels=self.config.d_hidn, out_channels=self.config.d_ff, kernel_size=1)\n",
        "        self.conv2 = nn.Conv1d(in_channels=self.config.d_ff, out_channels=self.config.d_hidn, kernel_size=1)\n",
        "        self.active = F.gelu\n",
        "        self.dropout = nn.Dropout(config.dropout)\n",
        "\n",
        "    def forward(self, inputs):\n",
        "        # (bs, d_ff, n_seq)\n",
        "        output = self.active(self.conv1(inputs.transpose(1, 2)))\n",
        "        # (bs, n_seq, d_hidn)\n",
        "        output = self.conv2(output).transpose(1, 2)\n",
        "        output = self.dropout(output)\n",
        "        # (bs, n_seq, d_hidn)\n",
        "        return output"
      ],
      "execution_count": 0,
      "outputs": []
    },
    {
      "cell_type": "code",
      "metadata": {
        "id": "WDXUeMKoULa2",
        "colab_type": "code",
        "colab": {}
      },
      "source": [
        "\"\"\" encoder layer \"\"\"\n",
        "class EncoderLayer(nn.Module):\n",
        "    def __init__(self, config):\n",
        "        super().__init__()\n",
        "        self.config = config\n",
        "\n",
        "        self.self_attn = MultiHeadAttention(self.config)\n",
        "        self.layer_norm1 = nn.LayerNorm(self.config.d_hidn, eps=self.config.layer_norm_epsilon)\n",
        "        self.pos_ffn = PoswiseFeedForwardNet(self.config)\n",
        "        self.layer_norm2 = nn.LayerNorm(self.config.d_hidn, eps=self.config.layer_norm_epsilon)\n",
        "    \n",
        "    def forward(self, inputs, attn_mask):\n",
        "        # (bs, n_enc_seq, d_hidn), (bs, n_head, n_enc_seq, n_enc_seq)\n",
        "        att_outputs, attn_prob = self.self_attn(inputs, inputs, inputs, attn_mask)\n",
        "        att_outputs = self.layer_norm1(inputs + att_outputs)\n",
        "        # (bs, n_enc_seq, d_hidn)\n",
        "        ffn_outputs = self.pos_ffn(att_outputs)\n",
        "        ffn_outputs = self.layer_norm2(ffn_outputs + att_outputs)\n",
        "        # (bs, n_enc_seq, d_hidn), (bs, n_head, n_enc_seq, n_enc_seq)\n",
        "        return ffn_outputs, attn_prob\n",
        "\n",
        "\n",
        "\"\"\" encoder \"\"\"\n",
        "class Encoder(nn.Module):\n",
        "    def __init__(self, config):\n",
        "        super().__init__()\n",
        "        self.config = config\n",
        "\n",
        "        self.layers = nn.ModuleList([EncoderLayer(self.config) for _ in range(self.config.n_layer)])\n",
        "    \n",
        "    def forward(self, enc_embd, enc_self_mask):\n",
        "        # (bs, n_enc_seq, d_hidn)\n",
        "        enc_outputs = enc_embd\n",
        "\n",
        "        attn_probs = []\n",
        "        for layer in self.layers:\n",
        "            # (bs, n_enc_seq, d_hidn), (bs, n_head, n_enc_seq, n_enc_seq)\n",
        "            enc_outputs, attn_prob = layer(enc_outputs, enc_self_mask)\n",
        "            attn_probs.append(attn_prob)\n",
        "        # (bs, n_enc_seq, d_hidn), [(bs, n_head, n_enc_seq, n_enc_seq)]\n",
        "        return enc_outputs, attn_probs\n",
        "\n",
        "\n",
        "\"\"\" decoder layer \"\"\"\n",
        "class DecoderLayer(nn.Module):\n",
        "    def __init__(self, config):\n",
        "        super().__init__()\n",
        "        self.config = config\n",
        "\n",
        "        self.self_attn = MultiHeadAttention(self.config)\n",
        "        self.layer_norm1 = nn.LayerNorm(self.config.d_hidn, eps=self.config.layer_norm_epsilon)\n",
        "        self.dec_enc_attn = MultiHeadAttention(self.config)\n",
        "        self.layer_norm2 = nn.LayerNorm(self.config.d_hidn, eps=self.config.layer_norm_epsilon)\n",
        "        self.pos_ffn = PoswiseFeedForwardNet(self.config)\n",
        "        self.layer_norm3 = nn.LayerNorm(self.config.d_hidn, eps=self.config.layer_norm_epsilon)\n",
        "    \n",
        "    def forward(self, dec_inputs, enc_outputs, self_mask, ende_mask):\n",
        "        # (bs, n_dec_seq, d_hidn), (bs, n_head, n_dec_seq, n_dec_seq)\n",
        "        self_att_outputs, self_attn_prob = self.self_attn(dec_inputs, dec_inputs, dec_inputs, self_mask, bidirectional=False)\n",
        "        self_att_outputs = self.layer_norm1(dec_inputs + self_att_outputs)\n",
        "        # (bs, n_dec_seq, d_hidn), (bs, n_head, n_dec_seq, n_enc_seq)\n",
        "        dec_enc_att_outputs, dec_enc_attn_prob = self.dec_enc_attn(self_att_outputs, enc_outputs, enc_outputs, ende_mask)\n",
        "        dec_enc_att_outputs = self.layer_norm2(self_att_outputs + dec_enc_att_outputs)\n",
        "        # (bs, n_dec_seq, d_hidn)\n",
        "        ffn_outputs = self.pos_ffn(dec_enc_att_outputs)\n",
        "        ffn_outputs = self.layer_norm3(dec_enc_att_outputs + ffn_outputs)\n",
        "        # (bs, n_dec_seq, d_hidn), (bs, n_head, n_dec_seq, n_dec_seq), (bs, n_head, n_dec_seq, n_enc_seq)\n",
        "        return ffn_outputs, self_attn_prob, dec_enc_attn_prob\n",
        "\n",
        "\n",
        "\"\"\" decoder \"\"\"\n",
        "class Decoder(nn.Module):\n",
        "    def __init__(self, config):\n",
        "        super().__init__()\n",
        "        self.config = config\n",
        "\n",
        "        self.layers = nn.ModuleList([DecoderLayer(self.config) for _ in range(self.config.n_layer)])\n",
        "    \n",
        "    def forward(self, dec_embd, enc_outputs, self_mask, ende_mask):\n",
        "        # (bs, n_dec_seq, d_hidn)\n",
        "        dec_outputs = dec_embd\n",
        "\n",
        "        self_attn_probs, dec_enc_attn_probs = [], []\n",
        "        for layer in self.layers:\n",
        "            # (bs, n_dec_seq, d_hidn), (bs, n_dec_seq, n_dec_seq), (bs, n_dec_seq, n_enc_seq)\n",
        "            dec_outputs, self_attn_prob, dec_enc_attn_prob = layer(dec_outputs, enc_outputs, self_mask, ende_mask)\n",
        "            self_attn_probs.append(self_attn_prob)\n",
        "            dec_enc_attn_probs.append(dec_enc_attn_prob)\n",
        "        # (bs, n_dec_seq, d_hidn), [(bs, n_dec_seq, n_dec_seq)], [(bs, n_dec_seq, n_enc_seq)]S\n",
        "        return dec_outputs, self_attn_probs, dec_enc_attn_probs\n",
        "\n",
        "\n",
        "\"\"\" t5 \"\"\"\n",
        "class T5(nn.Module):\n",
        "    def __init__(self, config):\n",
        "        super().__init__()\n",
        "        self.config = config\n",
        "\n",
        "        self.embedding = nn.Embedding(self.config.n_vocab, self.config.d_hidn)\n",
        "        self.encoder = Encoder(self.config)\n",
        "        self.decoder = Decoder(self.config)\n",
        "\n",
        "        self.projection_lm = nn.Linear(self.config.d_hidn, self.config.n_vocab, bias=False)\n",
        "        self.projection_lm.weight = self.embedding.weight\n",
        "    \n",
        "    def forward(self, enc_inputs, dec_inputs):\n",
        "        enc_embd = self.embedding(enc_inputs)\n",
        "        dec_embd = self.embedding(dec_inputs)\n",
        "\n",
        "        enc_self_mask = get_attn_pad_mask(enc_inputs, enc_inputs, self.config.i_pad)\n",
        "        dec_self_mask = self.get_attn_dec_mask(dec_inputs)\n",
        "        dec_ende_mask = get_attn_pad_mask(dec_inputs, enc_inputs, self.config.i_pad)\n",
        "\n",
        "        # (bs, n_enc_seq, d_hidn), [(bs, n_head, n_enc_seq, n_enc_seq)]\n",
        "        enc_outputs, enc_self_attn_probs = self.encoder(enc_embd, enc_self_mask)\n",
        "        # (bs, n_dec_seq, d_hidn), [(bs, n_head, n_dec_seq, n_dec_seq)], [(bs, n_head, n_dec_seq, n_enc_seq)]\n",
        "        dec_outputs, dec_self_attn_probs, dec_enc_attn_probs = self.decoder(dec_embd, enc_outputs, dec_self_mask, dec_ende_mask)\n",
        "        # (bs, n_dec_seq, n_vocab)\n",
        "        dec_outputs = self.projection_lm(dec_outputs)\n",
        "        # (bs, n_dec_seq, n_vocab), [(bs, n_head, n_enc_seq, n_enc_seq)], [(bs, n_head, n_dec_seq, n_dec_seq)], [(bs, n_head, n_dec_seq, n_enc_seq)]\n",
        "        return dec_outputs, enc_self_attn_probs, dec_self_attn_probs, dec_enc_attn_probs\n",
        "    \n",
        "    def get_attn_dec_mask(self, dec_inputs):\n",
        "         # (bs, n_dec_seq, n_dec_seq)\n",
        "        dec_pad_mask = get_attn_pad_mask(dec_inputs, dec_inputs, self.config.i_pad)\n",
        "        # (bs, n_dec_seq, n_dec_seq)\n",
        "        dec_ahead_mask = get_attn_decoder_mask(dec_inputs)\n",
        "        # (bs, n_dec_seq, n_dec_seq)\n",
        "        dec_self_mask = torch.gt((dec_pad_mask + dec_ahead_mask), 0)\n",
        "        # (bs, n_dec_seq, n_dec_seq)\n",
        "        return dec_self_mask\n",
        "\n",
        "    def save(self, epoch, loss, path):\n",
        "        torch.save({\n",
        "            \"epoch\": epoch,\n",
        "            \"loss\": loss,\n",
        "            \"state_dict\": self.state_dict()\n",
        "        }, path)\n",
        "    \n",
        "    def load(self, path):\n",
        "        save = torch.load(path)\n",
        "        self.load_state_dict(save[\"state_dict\"])\n",
        "        return save[\"epoch\"], save[\"loss\"]"
      ],
      "execution_count": 0,
      "outputs": []
    },
    {
      "cell_type": "markdown",
      "metadata": {
        "id": "pZQyVfnJUcXH",
        "colab_type": "text"
      },
      "source": [
        "#### 7. Naver 영화 분류 모델"
      ]
    },
    {
      "cell_type": "code",
      "metadata": {
        "id": "KIu5UyLUUdMW",
        "colab_type": "code",
        "colab": {}
      },
      "source": [
        "\"\"\" naver movie classfication \"\"\"\n",
        "class MovieClassification(nn.Module):\n",
        "    def __init__(self, config):\n",
        "        super().__init__()\n",
        "        self.config = config\n",
        "\n",
        "        self.t5 = T5(self.config)\n",
        "    \n",
        "    def forward(self, enc_inputs, dec_inputs):\n",
        "        # (bs, n_dec_seq, n_vocab), [(bs, n_head, n_enc_seq, n_enc_seq)], [(bs, n_head, n_dec_seq, n_dec_seq)], [(bs, n_head, n_dec_seq, n_enc_seq)]\n",
        "        logits, enc_self_attn_probs, dec_self_attn_probs, dec_enc_attn_probs = self.t5(enc_inputs, dec_inputs)\n",
        "        return logits, enc_self_attn_probs, dec_self_attn_probs, dec_enc_attn_probs"
      ],
      "execution_count": 0,
      "outputs": []
    },
    {
      "cell_type": "markdown",
      "metadata": {
        "id": "L_DfRSm3Uzg3",
        "colab_type": "text"
      },
      "source": [
        "#### 8. 네이버 영화 분류 데이터\n",
        "\n",
        "T5를 위해 vocab을 새로 만들어서 학습 데이터도 새로 만들 었습니다.\n",
        "\n"
      ]
    },
    {
      "cell_type": "code",
      "metadata": {
        "id": "xbAbC56jglXe",
        "colab_type": "code",
        "colab": {}
      },
      "source": [
        "\"\"\" train data 준비 \"\"\"\n",
        "def prepare_train(vocab, infile, outfile):\n",
        "    df = pd.read_csv(infile, sep=\"\\t\", engine=\"python\")\n",
        "    with open(outfile, \"w\") as f:\n",
        "        for index, row in df.iterrows():\n",
        "            document = row[\"document\"]\n",
        "            if type(document) != str:\n",
        "                continue\n",
        "            instance = { \"id\": row[\"id\"], \"doc\": vocab.encode_as_pieces(document), \"label\": row[\"label\"] }\n",
        "            f.write(json.dumps(instance, ensure_ascii=False))\n",
        "            f.write(\"\\n\")"
      ],
      "execution_count": 0,
      "outputs": []
    },
    {
      "cell_type": "code",
      "metadata": {
        "id": "gyUB5liAgzKr",
        "colab_type": "code",
        "colab": {}
      },
      "source": [
        "prepare_train(vocab, f\"{data_dir}/ratings_train.txt\", f\"{data_dir}/ratings_train_t5.json\")\n",
        "prepare_train(vocab, f\"{data_dir}/ratings_test.txt\", f\"{data_dir}/ratings_test_t5.json\")"
      ],
      "execution_count": 0,
      "outputs": []
    },
    {
      "cell_type": "code",
      "metadata": {
        "id": "7F8q2PatU0KH",
        "colab_type": "code",
        "colab": {}
      },
      "source": [
        "\"\"\" 정답 text \"\"\"\n",
        "lable_map = {0: \"부\", 1: \"정\"}\n",
        "\n",
        "\"\"\" 영화 분류 데이터셋 \"\"\"\n",
        "class MovieDataSet(torch.utils.data.Dataset):\n",
        "    def __init__(self, vocab, infile, is_valid=False):\n",
        "        self.vocab = vocab\n",
        "        self.labels = []\n",
        "        self.enc_inputs = []\n",
        "        self.dec_inputs = []\n",
        "\n",
        "        line_cnt = 0\n",
        "        with open(infile, \"r\") as f:\n",
        "            for line in f:\n",
        "                line_cnt += 1\n",
        "\n",
        "        with open(infile, \"r\") as f:\n",
        "            for i, line in enumerate(tqdm(f, total=line_cnt, desc=\"Loading Dataset\", unit=\" lines\")):\n",
        "                data = json.loads(line)\n",
        "\n",
        "                enc_input = vocab.encode_as_ids(\"감정분류:\") + [vocab.piece_to_id(p) for p in data[\"doc\"]]\n",
        "                if is_valid:\n",
        "                    label = vocab.encode_as_ids(lable_map[data[\"label\"]])\n",
        "                    dec_input = [vocab.piece_to_id(\"[BOS]\")]\n",
        "                else:\n",
        "                    label = vocab.encode_as_ids(lable_map[data[\"label\"]]) + [vocab.piece_to_id(\"[EOS]\")]\n",
        "                    dec_input = [vocab.piece_to_id(\"[BOS]\")] + vocab.encode_as_ids(lable_map[data[\"label\"]])\n",
        "\n",
        "                self.labels.append(label)\n",
        "                self.enc_inputs.append(enc_input)\n",
        "                self.dec_inputs.append(dec_input)\n",
        "    \n",
        "    def __len__(self):\n",
        "        assert len(self.labels) == len(self.enc_inputs)\n",
        "        assert len(self.labels) == len(self.dec_inputs)\n",
        "        return len(self.labels)\n",
        "    \n",
        "    def __getitem__(self, item):\n",
        "        return (torch.tensor(self.labels[item]),\n",
        "                torch.tensor(self.enc_inputs[item]),\n",
        "                torch.tensor(self.dec_inputs[item]))"
      ],
      "execution_count": 0,
      "outputs": []
    },
    {
      "cell_type": "code",
      "metadata": {
        "id": "GIUF3NDiU9JY",
        "colab_type": "code",
        "colab": {}
      },
      "source": [
        "\"\"\" movie data collate_fn \"\"\"\n",
        "def movie_collate_fn(inputs):\n",
        "    labels, enc_inputs, dec_inputs = list(zip(*inputs))\n",
        "\n",
        "    enc_inputs = torch.nn.utils.rnn.pad_sequence(enc_inputs, batch_first=True, padding_value=0)\n",
        "    dec_inputs = torch.nn.utils.rnn.pad_sequence(dec_inputs, batch_first=True, padding_value=0)\n",
        "\n",
        "    batch = [\n",
        "        torch.stack(labels, dim=0),\n",
        "        enc_inputs,\n",
        "        dec_inputs,\n",
        "    ]\n",
        "    return batch"
      ],
      "execution_count": 0,
      "outputs": []
    },
    {
      "cell_type": "code",
      "metadata": {
        "id": "A7h4x5WAVE-Y",
        "colab_type": "code",
        "outputId": "5f02254c-98f5-4f1f-affb-9b6eac6d9618",
        "colab": {
          "base_uri": "https://localhost:8080/",
          "height": 51
        }
      },
      "source": [
        "\"\"\" 데이터 로더 \"\"\"\n",
        "batch_size = 128\n",
        "train_dataset = MovieDataSet(vocab, f\"{data_dir}/ratings_train_t5.json\")\n",
        "train_loader = torch.utils.data.DataLoader(train_dataset, batch_size=batch_size, shuffle=True, collate_fn=movie_collate_fn)\n",
        "test_dataset = MovieDataSet(vocab, f\"{data_dir}/ratings_test_t5.json\", is_valid=True)\n",
        "test_loader = torch.utils.data.DataLoader(test_dataset, batch_size=batch_size, shuffle=False, collate_fn=movie_collate_fn)"
      ],
      "execution_count": 24,
      "outputs": [
        {
          "output_type": "stream",
          "text": [
            "Loading Dataset: 100%|██████████| 149995/149995 [00:06<00:00, 21670.37 lines/s]\n",
            "Loading Dataset: 100%|██████████| 49997/49997 [00:01<00:00, 25291.42 lines/s]\n"
          ],
          "name": "stderr"
        }
      ]
    },
    {
      "cell_type": "markdown",
      "metadata": {
        "id": "-ROkwVAZVMBq",
        "colab_type": "text"
      },
      "source": [
        "#### 9. 네이버 영화 분류 데이터 학습"
      ]
    },
    {
      "cell_type": "code",
      "metadata": {
        "id": "3uk8i_COVMqY",
        "colab_type": "code",
        "colab": {}
      },
      "source": [
        "\"\"\" 모델 epoch 평가 \"\"\"\n",
        "def eval_epoch(config, model, data_loader):\n",
        "    matchs = []\n",
        "    model.eval()\n",
        "\n",
        "    n_word_total = 0\n",
        "    n_correct_total = 0\n",
        "    with tqdm(total=len(data_loader), desc=f\"Valid\") as pbar:\n",
        "        for i, value in enumerate(data_loader):\n",
        "            labels, enc_inputs, dec_inputs = map(lambda v: v.to(config.device), value)\n",
        "\n",
        "            outputs = model(enc_inputs, dec_inputs)\n",
        "            logits = outputs[0]\n",
        "            _, indices = logits.max(2)\n",
        "\n",
        "            match = torch.eq(indices, labels).detach()\n",
        "            matchs.extend(match.cpu())\n",
        "            accuracy = np.sum(matchs) / len(matchs) if 0 < len(matchs) else 0\n",
        "\n",
        "            pbar.update(1)\n",
        "            pbar.set_postfix_str(f\"Acc: {accuracy:.3f}\")\n",
        "    return np.sum(matchs) / len(matchs) if 0 < len(matchs) else 0"
      ],
      "execution_count": 0,
      "outputs": []
    },
    {
      "cell_type": "code",
      "metadata": {
        "id": "dDuh_wmmVWSC",
        "colab_type": "code",
        "colab": {}
      },
      "source": [
        "\"\"\" 모델 epoch 학습 \"\"\"\n",
        "def train_epoch(config, epoch, model, criterion, optimizer, train_loader):\n",
        "    losses = []\n",
        "    model.train()\n",
        "\n",
        "    with tqdm(total=len(train_loader), desc=f\"Train({epoch})\") as pbar:\n",
        "        for i, value in enumerate(train_loader):\n",
        "            labels, enc_inputs, dec_inputs = map(lambda v: v.to(config.device), value)\n",
        "\n",
        "            optimizer.zero_grad()\n",
        "            outputs = model(enc_inputs, dec_inputs)\n",
        "            logits = outputs[0]\n",
        "\n",
        "            loss = criterion(logits.view(-1, logits.size(2)), labels.view(-1))\n",
        "\n",
        "            loss_val = loss.item()\n",
        "            losses.append(loss_val)\n",
        "\n",
        "            loss.backward()\n",
        "            optimizer.step()\n",
        "\n",
        "            pbar.update(1)\n",
        "            pbar.set_postfix_str(f\"Loss: {loss_val:.3f} ({np.mean(losses):.3f})\")\n",
        "    return np.mean(losses)"
      ],
      "execution_count": 0,
      "outputs": []
    },
    {
      "cell_type": "code",
      "metadata": {
        "id": "i8zkUfOmVjNo",
        "colab_type": "code",
        "outputId": "14b9e1b2-a4f9-4c16-f03d-dd6fa256913e",
        "colab": {
          "base_uri": "https://localhost:8080/",
          "height": 34
        }
      },
      "source": [
        "config.device = torch.device(\"cuda\" if torch.cuda.is_available() else \"cpu\")\n",
        "print(config)\n",
        "\n",
        "learning_rate = 5e-5\n",
        "n_epoch = 5"
      ],
      "execution_count": 32,
      "outputs": [
        {
          "output_type": "stream",
          "text": [
            "{'n_vocab': 8033, 'n_seq': 256, 'n_layer': 6, 'd_hidn': 256, 'i_pad': 0, 'd_ff': 1024, 'n_head': 4, 'd_head': 64, 'dropout': 0.1, 'layer_norm_epsilon': 1e-12, 'device': device(type='cuda')}\n"
          ],
          "name": "stdout"
        }
      ]
    },
    {
      "cell_type": "code",
      "metadata": {
        "id": "3wZhTd_zVo8Y",
        "colab_type": "code",
        "colab": {}
      },
      "source": [
        "def train(model):\n",
        "    model.to(config.device)\n",
        "\n",
        "    criterion_cls = torch.nn.CrossEntropyLoss()\n",
        "    optimizer = torch.optim.Adam(model.parameters(), lr=learning_rate)\n",
        "\n",
        "    best_epoch, best_loss, best_score = 0, 0, 0\n",
        "    losses, scores = [], []\n",
        "    for epoch in range(n_epoch):\n",
        "        loss = train_epoch(config, epoch, model, criterion_cls, optimizer, train_loader)\n",
        "        score = eval_epoch(config, model, test_loader)\n",
        "\n",
        "        losses.append(loss)\n",
        "        scores.append(score)\n",
        "\n",
        "        if best_score < score:\n",
        "            best_epoch, best_loss, best_score = epoch, loss, score\n",
        "    print(f\">>>> epoch={best_epoch}, loss={best_loss:.5f}, socre={best_score:.5f}\")\n",
        "    return losses, scores"
      ],
      "execution_count": 0,
      "outputs": []
    },
    {
      "cell_type": "markdown",
      "metadata": {
        "id": "Ui2zgSlUVxDw",
        "colab_type": "text"
      },
      "source": [
        "###### Pretrain 없이 학습"
      ]
    },
    {
      "cell_type": "code",
      "metadata": {
        "id": "pojS0xVsVv_y",
        "colab_type": "code",
        "outputId": "c39be6c8-956c-4faf-ea11-2f4922466459",
        "colab": {
          "base_uri": "https://localhost:8080/",
          "height": 204
        }
      },
      "source": [
        "model = MovieClassification(config)\n",
        "\n",
        "losses_00, scores_00 = train(model)"
      ],
      "execution_count": 33,
      "outputs": [
        {
          "output_type": "stream",
          "text": [
            "Train(0): 100%|██████████| 1172/1172 [05:07<00:00,  3.72it/s, Loss: 0.244 (0.827)]\n",
            "Valid: 100%|██████████| 391/391 [01:00<00:00,  4.63it/s, Acc: 0.771]\n",
            "Train(1): 100%|██████████| 1172/1172 [05:06<00:00,  3.89it/s, Loss: 0.232 (0.253)]\n",
            "Valid: 100%|██████████| 391/391 [01:02<00:00,  4.59it/s, Acc: 0.794]\n",
            "Train(2): 100%|██████████| 1172/1172 [05:10<00:00,  4.05it/s, Loss: 0.235 (0.229)]\n",
            "Valid: 100%|██████████| 391/391 [01:02<00:00,  4.76it/s, Acc: 0.812]\n",
            "Train(3): 100%|██████████| 1172/1172 [05:10<00:00,  3.88it/s, Loss: 0.193 (0.214)]\n",
            "Valid: 100%|██████████| 391/391 [01:02<00:00,  4.77it/s, Acc: 0.816]\n",
            "Train(4): 100%|██████████| 1172/1172 [05:09<00:00,  3.75it/s, Loss: 0.192 (0.201)]\n",
            "Valid: 100%|██████████| 391/391 [01:01<00:00,  4.84it/s, Acc: 0.814]\n"
          ],
          "name": "stderr"
        },
        {
          "output_type": "stream",
          "text": [
            ">>>> epoch=3, loss=0.21405, socre=0.81623\n"
          ],
          "name": "stdout"
        }
      ]
    },
    {
      "cell_type": "markdown",
      "metadata": {
        "id": "gJALhcUrV-5T",
        "colab_type": "text"
      },
      "source": [
        "###### Pretrain을 한 후 학습"
      ]
    },
    {
      "cell_type": "code",
      "metadata": {
        "id": "WvGZZyUBV2pI",
        "colab_type": "code",
        "outputId": "79a399b7-f760-48f8-f8ae-788447f773ec",
        "colab": {
          "base_uri": "https://localhost:8080/",
          "height": 204
        }
      },
      "source": [
        "model = MovieClassification(config)\n",
        "\n",
        "save_pretrain = f\"{data_dir}/save_t5_pretrain.pth\"\n",
        "model.t5.load(save_pretrain)\n",
        "\n",
        "losses_20, scores_20 = train(model)"
      ],
      "execution_count": 34,
      "outputs": [
        {
          "output_type": "stream",
          "text": [
            "Train(0): 100%|██████████| 1172/1172 [05:11<00:00,  3.69it/s, Loss: 0.227 (0.288)]\n",
            "Valid: 100%|██████████| 391/391 [01:01<00:00,  4.86it/s, Acc: 0.769]\n",
            "Train(1): 100%|██████████| 1172/1172 [05:07<00:00,  3.93it/s, Loss: 0.261 (0.220)]\n",
            "Valid: 100%|██████████| 391/391 [01:00<00:00,  4.68it/s, Acc: 0.813]\n",
            "Train(2): 100%|██████████| 1172/1172 [05:06<00:00,  3.94it/s, Loss: 0.173 (0.204)]\n",
            "Valid: 100%|██████████| 391/391 [01:00<00:00,  4.67it/s, Acc: 0.822]\n",
            "Train(3): 100%|██████████| 1172/1172 [05:09<00:00,  3.78it/s, Loss: 0.205 (0.191)]\n",
            "Valid: 100%|██████████| 391/391 [01:03<00:00,  4.86it/s, Acc: 0.828]\n",
            "Train(4): 100%|██████████| 1172/1172 [05:07<00:00,  3.98it/s, Loss: 0.138 (0.181)]\n",
            "Valid: 100%|██████████| 391/391 [01:00<00:00,  4.56it/s, Acc: 0.827]\n"
          ],
          "name": "stderr"
        },
        {
          "output_type": "stream",
          "text": [
            ">>>> epoch=3, loss=0.19078, socre=0.82767\n"
          ],
          "name": "stdout"
        }
      ]
    },
    {
      "cell_type": "markdown",
      "metadata": {
        "id": "C0_DtGYqWCvs",
        "colab_type": "text"
      },
      "source": [
        "#### 10. Result"
      ]
    },
    {
      "cell_type": "code",
      "metadata": {
        "id": "aZnPu0tgWIUI",
        "colab_type": "code",
        "outputId": "7ccc1f81-067c-46e1-f006-65d5dc19b9a3",
        "colab": {
          "base_uri": "https://localhost:8080/",
          "height": 468
        }
      },
      "source": [
        "# table\n",
        "data = {\n",
        "    \"loss_00\": losses_00,\n",
        "    \"socre_00\": scores_00,\n",
        "    \"loss_20\": losses_20,\n",
        "    \"socre_20\": scores_20,\n",
        "}\n",
        "df = pd.DataFrame(data)\n",
        "display(df)\n",
        "\n",
        "# graph\n",
        "plt.figure(figsize=[12, 4])\n",
        "plt.plot(scores_00, label=\"score_00\")\n",
        "plt.plot(scores_20, label=\"score_20\")\n",
        "plt.legend()\n",
        "plt.xlabel('Epoch')\n",
        "plt.ylabel('Value')\n",
        "plt.show()"
      ],
      "execution_count": 35,
      "outputs": [
        {
          "output_type": "display_data",
          "data": {
            "text/html": [
              "<div>\n",
              "<style scoped>\n",
              "    .dataframe tbody tr th:only-of-type {\n",
              "        vertical-align: middle;\n",
              "    }\n",
              "\n",
              "    .dataframe tbody tr th {\n",
              "        vertical-align: top;\n",
              "    }\n",
              "\n",
              "    .dataframe thead th {\n",
              "        text-align: right;\n",
              "    }\n",
              "</style>\n",
              "<table border=\"1\" class=\"dataframe\">\n",
              "  <thead>\n",
              "    <tr style=\"text-align: right;\">\n",
              "      <th></th>\n",
              "      <th>loss_00</th>\n",
              "      <th>socre_00</th>\n",
              "      <th>loss_20</th>\n",
              "      <th>socre_20</th>\n",
              "    </tr>\n",
              "  </thead>\n",
              "  <tbody>\n",
              "    <tr>\n",
              "      <th>0</th>\n",
              "      <td>0.827442</td>\n",
              "      <td>0.771186</td>\n",
              "      <td>0.287530</td>\n",
              "      <td>0.769306</td>\n",
              "    </tr>\n",
              "    <tr>\n",
              "      <th>1</th>\n",
              "      <td>0.252628</td>\n",
              "      <td>0.793888</td>\n",
              "      <td>0.220361</td>\n",
              "      <td>0.812609</td>\n",
              "    </tr>\n",
              "    <tr>\n",
              "      <th>2</th>\n",
              "      <td>0.228660</td>\n",
              "      <td>0.811849</td>\n",
              "      <td>0.204462</td>\n",
              "      <td>0.822269</td>\n",
              "    </tr>\n",
              "    <tr>\n",
              "      <th>3</th>\n",
              "      <td>0.214050</td>\n",
              "      <td>0.816229</td>\n",
              "      <td>0.190784</td>\n",
              "      <td>0.827670</td>\n",
              "    </tr>\n",
              "    <tr>\n",
              "      <th>4</th>\n",
              "      <td>0.201390</td>\n",
              "      <td>0.813929</td>\n",
              "      <td>0.180830</td>\n",
              "      <td>0.827170</td>\n",
              "    </tr>\n",
              "  </tbody>\n",
              "</table>\n",
              "</div>"
            ],
            "text/plain": [
              "    loss_00  socre_00   loss_20  socre_20\n",
              "0  0.827442  0.771186  0.287530  0.769306\n",
              "1  0.252628  0.793888  0.220361  0.812609\n",
              "2  0.228660  0.811849  0.204462  0.822269\n",
              "3  0.214050  0.816229  0.190784  0.827670\n",
              "4  0.201390  0.813929  0.180830  0.827170"
            ]
          },
          "metadata": {
            "tags": []
          }
        },
        {
          "output_type": "display_data",
          "data": {
            "image/png": "[encoded data removed]",
            "text/plain": [
              "<Figure size 864x288 with 1 Axes>"
            ]
          },
          "metadata": {
            "tags": []
          }
        }
      ]
    }
  ]
}