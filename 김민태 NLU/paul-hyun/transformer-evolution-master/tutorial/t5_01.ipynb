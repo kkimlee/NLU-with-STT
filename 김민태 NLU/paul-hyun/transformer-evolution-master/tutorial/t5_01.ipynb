{
  "nbformat": 4,
  "nbformat_minor": 0,
  "metadata": {
    "colab": {
      "name": "t5-01.ipynb",
      "provenance": [],
      "collapsed_sections": []
    },
    "kernelspec": {
      "name": "python3",
      "display_name": "Python 3"
    },
    "accelerator": "GPU",
    "widgets": {
      "application/vnd.jupyter.widget-state+json": {
        "3f893cef3d474a15aab57e168205eedf": {
          "model_module": "@jupyter-widgets/controls",
          "model_name": "HBoxModel",
          "state": {
            "_view_name": "HBoxView",
            "_dom_classes": [],
            "_model_name": "HBoxModel",
            "_view_module": "@jupyter-widgets/controls",
            "_model_module_version": "1.5.0",
            "_view_count": null,
            "_view_module_version": "1.5.0",
            "box_style": "",
            "layout": "IPY_MODEL_10c886e2cf7c4eb5bca64b399098d168",
            "_model_module": "@jupyter-widgets/controls",
            "children": [
              "IPY_MODEL_b4296d0ce29a4c7f8e575506c3835911",
              "IPY_MODEL_26daeaba3b04460d87f5e9cfd8d85563"
            ]
          }
        },
        "10c886e2cf7c4eb5bca64b399098d168": {
          "model_module": "@jupyter-widgets/base",
          "model_name": "LayoutModel",
          "state": {
            "_view_name": "LayoutView",
            "grid_template_rows": null,
            "right": null,
            "justify_content": null,
            "_view_module": "@jupyter-widgets/base",
            "overflow": null,
            "_model_module_version": "1.2.0",
            "_view_count": null,
            "flex_flow": null,
            "width": null,
            "min_width": null,
            "border": null,
            "align_items": null,
            "bottom": null,
            "_model_module": "@jupyter-widgets/base",
            "top": null,
            "grid_column": null,
            "overflow_y": null,
            "overflow_x": null,
            "grid_auto_flow": null,
            "grid_area": null,
            "grid_template_columns": null,
            "flex": null,
            "_model_name": "LayoutModel",
            "justify_items": null,
            "grid_row": null,
            "max_height": null,
            "align_content": null,
            "visibility": null,
            "align_self": null,
            "height": null,
            "min_height": null,
            "padding": null,
            "grid_auto_rows": null,
            "grid_gap": null,
            "max_width": null,
            "order": null,
            "_view_module_version": "1.2.0",
            "grid_template_areas": null,
            "object_position": null,
            "object_fit": null,
            "grid_auto_columns": null,
            "margin": null,
            "display": null,
            "left": null
          }
        },
        "b4296d0ce29a4c7f8e575506c3835911": {
          "model_module": "@jupyter-widgets/controls",
          "model_name": "IntProgressModel",
          "state": {
            "_view_name": "ProgressView",
            "style": "IPY_MODEL_e8124022674d485c9316ec64b2c456c9",
            "_dom_classes": [],
            "description": "Loading",
            "_model_name": "IntProgressModel",
            "bar_style": "danger",
            "max": 3724301,
            "_view_module": "@jupyter-widgets/controls",
            "_model_module_version": "1.5.0",
            "value": 1039716,
            "_view_count": null,
            "_view_module_version": "1.5.0",
            "orientation": "horizontal",
            "min": 0,
            "description_tooltip": null,
            "_model_module": "@jupyter-widgets/controls",
            "layout": "IPY_MODEL_ddbba6da173642558aafa24f121bef2b"
          }
        },
        "26daeaba3b04460d87f5e9cfd8d85563": {
          "model_module": "@jupyter-widgets/controls",
          "model_name": "HTMLModel",
          "state": {
            "_view_name": "HTMLView",
            "style": "IPY_MODEL_b493c59c5e8d43649d2ed8484c909235",
            "_dom_classes": [],
            "description": "",
            "_model_name": "HTMLModel",
            "placeholder": "​",
            "_view_module": "@jupyter-widgets/controls",
            "_model_module_version": "1.5.0",
            "value": " 28% 1039716/3724301 [01:23&lt;03:35, 12455.04it/s]",
            "_view_count": null,
            "_view_module_version": "1.5.0",
            "description_tooltip": null,
            "_model_module": "@jupyter-widgets/controls",
            "layout": "IPY_MODEL_69dffc7115af4e6eba4c1739db730db1"
          }
        },
        "e8124022674d485c9316ec64b2c456c9": {
          "model_module": "@jupyter-widgets/controls",
          "model_name": "ProgressStyleModel",
          "state": {
            "_view_name": "StyleView",
            "_model_name": "ProgressStyleModel",
            "description_width": "initial",
            "_view_module": "@jupyter-widgets/base",
            "_model_module_version": "1.5.0",
            "_view_count": null,
            "_view_module_version": "1.2.0",
            "bar_color": null,
            "_model_module": "@jupyter-widgets/controls"
          }
        },
        "ddbba6da173642558aafa24f121bef2b": {
          "model_module": "@jupyter-widgets/base",
          "model_name": "LayoutModel",
          "state": {
            "_view_name": "LayoutView",
            "grid_template_rows": null,
            "right": null,
            "justify_content": null,
            "_view_module": "@jupyter-widgets/base",
            "overflow": null,
            "_model_module_version": "1.2.0",
            "_view_count": null,
            "flex_flow": null,
            "width": null,
            "min_width": null,
            "border": null,
            "align_items": null,
            "bottom": null,
            "_model_module": "@jupyter-widgets/base",
            "top": null,
            "grid_column": null,
            "overflow_y": null,
            "overflow_x": null,
            "grid_auto_flow": null,
            "grid_area": null,
            "grid_template_columns": null,
            "flex": null,
            "_model_name": "LayoutModel",
            "justify_items": null,
            "grid_row": null,
            "max_height": null,
            "align_content": null,
            "visibility": null,
            "align_self": null,
            "height": null,
            "min_height": null,
            "padding": null,
            "grid_auto_rows": null,
            "grid_gap": null,
            "max_width": null,
            "order": null,
            "_view_module_version": "1.2.0",
            "grid_template_areas": null,
            "object_position": null,
            "object_fit": null,
            "grid_auto_columns": null,
            "margin": null,
            "display": null,
            "left": null
          }
        },
        "b493c59c5e8d43649d2ed8484c909235": {
          "model_module": "@jupyter-widgets/controls",
          "model_name": "DescriptionStyleModel",
          "state": {
            "_view_name": "StyleView",
            "_model_name": "DescriptionStyleModel",
            "description_width": "",
            "_view_module": "@jupyter-widgets/base",
            "_model_module_version": "1.5.0",
            "_view_count": null,
            "_view_module_version": "1.2.0",
            "_model_module": "@jupyter-widgets/controls"
          }
        },
        "69dffc7115af4e6eba4c1739db730db1": {
          "model_module": "@jupyter-widgets/base",
          "model_name": "LayoutModel",
          "state": {
            "_view_name": "LayoutView",
            "grid_template_rows": null,
            "right": null,
            "justify_content": null,
            "_view_module": "@jupyter-widgets/base",
            "overflow": null,
            "_model_module_version": "1.2.0",
            "_view_count": null,
            "flex_flow": null,
            "width": null,
            "min_width": null,
            "border": null,
            "align_items": null,
            "bottom": null,
            "_model_module": "@jupyter-widgets/base",
            "top": null,
            "grid_column": null,
            "overflow_y": null,
            "overflow_x": null,
            "grid_auto_flow": null,
            "grid_area": null,
            "grid_template_columns": null,
            "flex": null,
            "_model_name": "LayoutModel",
            "justify_items": null,
            "grid_row": null,
            "max_height": null,
            "align_content": null,
            "visibility": null,
            "align_self": null,
            "height": null,
            "min_height": null,
            "padding": null,
            "grid_auto_rows": null,
            "grid_gap": null,
            "max_width": null,
            "order": null,
            "_view_module_version": "1.2.0",
            "grid_template_areas": null,
            "object_position": null,
            "object_fit": null,
            "grid_auto_columns": null,
            "margin": null,
            "display": null,
            "left": null
          }
        }
      }
    }
  },
  "cells": [
    {
      "cell_type": "markdown",
      "metadata": {
        "id": "Zfpg-n2gNgtB",
        "colab_type": "text"
      },
      "source": [
        "## T5 구현 과정 (2/2)\n",
        "T5 모델 구현에 대한 설명 입니다.\n",
        "\n",
        "이 내용을 확인하기 전 아래 내용을 확인하시기 바랍니다.\n",
        "- [Sentencepiece를 활용해 Vocab 만들기](https://paul-hyun.github.io/vocab-with-sentencepiece/)\n",
        "- [Naver 영화리뷰 감정분석 데이터 전처리 하기](https://paul-hyun.github.io/preprocess-nsmc/)\n",
        "- [Transformer (Attention Is All You Need) 구현하기 (1/3)](https://paul-hyun.github.io/transformer-01/)\n",
        "- [Transformer (Attention Is All You Need) 구현하기 (2/3)](https://paul-hyun.github.io/transformer-02/)\n",
        "- [Transformer (Attention Is All You Need) 구현하기 (3/3)](https://paul-hyun.github.io/transformer-03/)\n",
        "\n",
        "\n",
        "[Colab](https://colab.research.google.com/)에서 실행 했습니다."
      ]
    },
    {
      "cell_type": "markdown",
      "metadata": {
        "id": "b4fLocKzS8qH",
        "colab_type": "text"
      },
      "source": [
        "#### 0. Pip Install\n",
        "필요한 패키지를 pip를 이용해서 설치합니다."
      ]
    },
    {
      "cell_type": "code",
      "metadata": {
        "id": "gP4qW5w6TAXe",
        "colab_type": "code",
        "outputId": "54e19570-6235-4dc3-dfa7-b0c81eb940fd",
        "colab": {
          "base_uri": "https://localhost:8080/",
          "height": 255
        }
      },
      "source": [
        "!pip install sentencepiece\n",
        "!pip install wget"
      ],
      "execution_count": 1,
      "outputs": [
        {
          "output_type": "stream",
          "text": [
            "Collecting sentencepiece\n",
            "\u001b[?25l  Downloading https://files.pythonhosted.org/packages/74/f4/2d5214cbf13d06e7cb2c20d84115ca25b53ea76fa1f0ade0e3c9749de214/sentencepiece-0.1.85-cp36-cp36m-manylinux1_x86_64.whl (1.0MB)\n",
            "\r\u001b[K     |▎                               | 10kB 12.2MB/s eta 0:00:01\r\u001b[K     |▋                               | 20kB 5.1MB/s eta 0:00:01\r\u001b[K     |█                               | 30kB 7.1MB/s eta 0:00:01\r\u001b[K     |█▎                              | 40kB 8.9MB/s eta 0:00:01\r\u001b[K     |█▋                              | 51kB 5.8MB/s eta 0:00:01\r\u001b[K     |██                              | 61kB 6.8MB/s eta 0:00:01\r\u001b[K     |██▏                             | 71kB 7.2MB/s eta 0:00:01\r\u001b[K     |██▌                             | 81kB 8.0MB/s eta 0:00:01\r\u001b[K     |██▉                             | 92kB 8.7MB/s eta 0:00:01\r\u001b[K     |███▏                            | 102kB 7.5MB/s eta 0:00:01\r\u001b[K     |███▌                            | 112kB 7.5MB/s eta 0:00:01\r\u001b[K     |███▉                            | 122kB 7.5MB/s eta 0:00:01\r\u001b[K     |████                            | 133kB 7.5MB/s eta 0:00:01\r\u001b[K     |████▍                           | 143kB 7.5MB/s eta 0:00:01\r\u001b[K     |████▊                           | 153kB 7.5MB/s eta 0:00:01\r\u001b[K     |█████                           | 163kB 7.5MB/s eta 0:00:01\r\u001b[K     |█████▍                          | 174kB 7.5MB/s eta 0:00:01\r\u001b[K     |█████▊                          | 184kB 7.5MB/s eta 0:00:01\r\u001b[K     |██████                          | 194kB 7.5MB/s eta 0:00:01\r\u001b[K     |██████▎                         | 204kB 7.5MB/s eta 0:00:01\r\u001b[K     |██████▋                         | 215kB 7.5MB/s eta 0:00:01\r\u001b[K     |███████                         | 225kB 7.5MB/s eta 0:00:01\r\u001b[K     |███████▎                        | 235kB 7.5MB/s eta 0:00:01\r\u001b[K     |███████▋                        | 245kB 7.5MB/s eta 0:00:01\r\u001b[K     |███████▉                        | 256kB 7.5MB/s eta 0:00:01\r\u001b[K     |████████▏                       | 266kB 7.5MB/s eta 0:00:01\r\u001b[K     |████████▌                       | 276kB 7.5MB/s eta 0:00:01\r\u001b[K     |████████▉                       | 286kB 7.5MB/s eta 0:00:01\r\u001b[K     |█████████▏                      | 296kB 7.5MB/s eta 0:00:01\r\u001b[K     |█████████▌                      | 307kB 7.5MB/s eta 0:00:01\r\u001b[K     |█████████▊                      | 317kB 7.5MB/s eta 0:00:01\r\u001b[K     |██████████                      | 327kB 7.5MB/s eta 0:00:01\r\u001b[K     |██████████▍                     | 337kB 7.5MB/s eta 0:00:01\r\u001b[K     |██████████▊                     | 348kB 7.5MB/s eta 0:00:01\r\u001b[K     |███████████                     | 358kB 7.5MB/s eta 0:00:01\r\u001b[K     |███████████▍                    | 368kB 7.5MB/s eta 0:00:01\r\u001b[K     |███████████▋                    | 378kB 7.5MB/s eta 0:00:01\r\u001b[K     |████████████                    | 389kB 7.5MB/s eta 0:00:01\r\u001b[K     |████████████▎                   | 399kB 7.5MB/s eta 0:00:01\r\u001b[K     |████████████▋                   | 409kB 7.5MB/s eta 0:00:01\r\u001b[K     |█████████████                   | 419kB 7.5MB/s eta 0:00:01\r\u001b[K     |█████████████▎                  | 430kB 7.5MB/s eta 0:00:01\r\u001b[K     |█████████████▌                  | 440kB 7.5MB/s eta 0:00:01\r\u001b[K     |█████████████▉                  | 450kB 7.5MB/s eta 0:00:01\r\u001b[K     |██████████████▏                 | 460kB 7.5MB/s eta 0:00:01\r\u001b[K     |██████████████▌                 | 471kB 7.5MB/s eta 0:00:01\r\u001b[K     |██████████████▉                 | 481kB 7.5MB/s eta 0:00:01\r\u001b[K     |███████████████▏                | 491kB 7.5MB/s eta 0:00:01\r\u001b[K     |███████████████▍                | 501kB 7.5MB/s eta 0:00:01\r\u001b[K     |███████████████▊                | 512kB 7.5MB/s eta 0:00:01\r\u001b[K     |████████████████                | 522kB 7.5MB/s eta 0:00:01\r\u001b[K     |████████████████▍               | 532kB 7.5MB/s eta 0:00:01\r\u001b[K     |████████████████▊               | 542kB 7.5MB/s eta 0:00:01\r\u001b[K     |█████████████████               | 552kB 7.5MB/s eta 0:00:01\r\u001b[K     |█████████████████▎              | 563kB 7.5MB/s eta 0:00:01\r\u001b[K     |█████████████████▋              | 573kB 7.5MB/s eta 0:00:01\r\u001b[K     |██████████████████              | 583kB 7.5MB/s eta 0:00:01\r\u001b[K     |██████████████████▎             | 593kB 7.5MB/s eta 0:00:01\r\u001b[K     |██████████████████▋             | 604kB 7.5MB/s eta 0:00:01\r\u001b[K     |███████████████████             | 614kB 7.5MB/s eta 0:00:01\r\u001b[K     |███████████████████▏            | 624kB 7.5MB/s eta 0:00:01\r\u001b[K     |███████████████████▌            | 634kB 7.5MB/s eta 0:00:01\r\u001b[K     |███████████████████▉            | 645kB 7.5MB/s eta 0:00:01\r\u001b[K     |████████████████████▏           | 655kB 7.5MB/s eta 0:00:01\r\u001b[K     |████████████████████▌           | 665kB 7.5MB/s eta 0:00:01\r\u001b[K     |████████████████████▉           | 675kB 7.5MB/s eta 0:00:01\r\u001b[K     |█████████████████████▏          | 686kB 7.5MB/s eta 0:00:01\r\u001b[K     |█████████████████████▍          | 696kB 7.5MB/s eta 0:00:01\r\u001b[K     |█████████████████████▊          | 706kB 7.5MB/s eta 0:00:01\r\u001b[K     |██████████████████████          | 716kB 7.5MB/s eta 0:00:01\r\u001b[K     |██████████████████████▍         | 727kB 7.5MB/s eta 0:00:01\r\u001b[K     |██████████████████████▊         | 737kB 7.5MB/s eta 0:00:01\r\u001b[K     |███████████████████████         | 747kB 7.5MB/s eta 0:00:01\r\u001b[K     |███████████████████████▎        | 757kB 7.5MB/s eta 0:00:01\r\u001b[K     |███████████████████████▋        | 768kB 7.5MB/s eta 0:00:01\r\u001b[K     |████████████████████████        | 778kB 7.5MB/s eta 0:00:01\r\u001b[K     |████████████████████████▎       | 788kB 7.5MB/s eta 0:00:01\r\u001b[K     |████████████████████████▋       | 798kB 7.5MB/s eta 0:00:01\r\u001b[K     |█████████████████████████       | 808kB 7.5MB/s eta 0:00:01\r\u001b[K     |█████████████████████████▏      | 819kB 7.5MB/s eta 0:00:01\r\u001b[K     |█████████████████████████▌      | 829kB 7.5MB/s eta 0:00:01\r\u001b[K     |█████████████████████████▉      | 839kB 7.5MB/s eta 0:00:01\r\u001b[K     |██████████████████████████▏     | 849kB 7.5MB/s eta 0:00:01\r\u001b[K     |██████████████████████████▌     | 860kB 7.5MB/s eta 0:00:01\r\u001b[K     |██████████████████████████▉     | 870kB 7.5MB/s eta 0:00:01\r\u001b[K     |███████████████████████████     | 880kB 7.5MB/s eta 0:00:01\r\u001b[K     |███████████████████████████▍    | 890kB 7.5MB/s eta 0:00:01\r\u001b[K     |███████████████████████████▊    | 901kB 7.5MB/s eta 0:00:01\r\u001b[K     |████████████████████████████    | 911kB 7.5MB/s eta 0:00:01\r\u001b[K     |████████████████████████████▍   | 921kB 7.5MB/s eta 0:00:01\r\u001b[K     |████████████████████████████▊   | 931kB 7.5MB/s eta 0:00:01\r\u001b[K     |█████████████████████████████   | 942kB 7.5MB/s eta 0:00:01\r\u001b[K     |█████████████████████████████▎  | 952kB 7.5MB/s eta 0:00:01\r\u001b[K     |█████████████████████████████▋  | 962kB 7.5MB/s eta 0:00:01\r\u001b[K     |██████████████████████████████  | 972kB 7.5MB/s eta 0:00:01\r\u001b[K     |██████████████████████████████▎ | 983kB 7.5MB/s eta 0:00:01\r\u001b[K     |██████████████████████████████▋ | 993kB 7.5MB/s eta 0:00:01\r\u001b[K     |██████████████████████████████▉ | 1.0MB 7.5MB/s eta 0:00:01\r\u001b[K     |███████████████████████████████▏| 1.0MB 7.5MB/s eta 0:00:01\r\u001b[K     |███████████████████████████████▌| 1.0MB 7.5MB/s eta 0:00:01\r\u001b[K     |███████████████████████████████▉| 1.0MB 7.5MB/s eta 0:00:01\r\u001b[K     |████████████████████████████████| 1.0MB 7.5MB/s \n",
            "\u001b[?25hInstalling collected packages: sentencepiece\n",
            "Successfully installed sentencepiece-0.1.85\n",
            "Collecting wget\n",
            "  Downloading https://files.pythonhosted.org/packages/47/6a/62e288da7bcda82b935ff0c6cfe542970f04e29c756b0e147251b2fb251f/wget-3.2.zip\n",
            "Building wheels for collected packages: wget\n",
            "  Building wheel for wget (setup.py) ... \u001b[?25l\u001b[?25hdone\n",
            "  Created wheel for wget: filename=wget-3.2-cp36-none-any.whl size=9682 sha256=38731a17f36f72fc68155ad636a36e987351441a7fc0b1ac5e4463c28d9c5641\n",
            "  Stored in directory: /root/.cache/pip/wheels/40/15/30/7d8f7cea2902b4db79e3fea550d7d7b85ecb27ef992b618f3f\n",
            "Successfully built wget\n",
            "Installing collected packages: wget\n",
            "Successfully installed wget-3.2\n"
          ],
          "name": "stdout"
        }
      ]
    },
    {
      "cell_type": "markdown",
      "metadata": {
        "id": "XZs93qCwS_bM",
        "colab_type": "text"
      },
      "source": [
        "#### 1. Google Drive Mount\n",
        "Colab에서는 컴퓨터에 자원에 접근이 불가능 하므로 Google Drive에 파일을 올려 놓은 후 Google Drive를 mount 에서 로컬 디스크처럼 사용 합니다.\n",
        "1. 아래 블럭을 실행하면 나타나는 링크를 클릭하세요.\n",
        "2. Google 계정을 선택 하시고 허용을 누르면 나타나는 코드를 복사하여 아래 박스에 입력한 후 Enter 키를 입력하면 됩니다.\n",
        "\n",
        "학습관련 [데이터 및 결과 파일](https://drive.google.com/open?id=15XGr-L-W6DSoR5TbniPMJASPsA0IDTiN)을 참고 하세요."
      ]
    },
    {
      "cell_type": "code",
      "metadata": {
        "id": "1XR4LcDdNfnW",
        "colab_type": "code",
        "outputId": "36d28670-e5bb-4880-95d3-579f6ea529f4",
        "colab": {
          "base_uri": "https://localhost:8080/",
          "height": 122
        }
      },
      "source": [
        "from google.colab import drive\n",
        "drive.mount('/content/drive')\n",
        "# data를 저장할 폴더 입니다. 환경에 맞게 수정 하세요.\n",
        "data_dir = \"/content/drive/My Drive/Data/transformer-evolution\""
      ],
      "execution_count": 2,
      "outputs": [
        {
          "output_type": "stream",
          "text": [
            "Go to this URL in a browser: https://accounts.google.com/o/oauth2/auth?client_id=947318989803-6bn6qk8qdgf4n4g3pfee6491hc0brc4i.apps.googleusercontent.com&redirect_uri=urn%3aietf%3awg%3aoauth%3a2.0%3aoob&response_type=code&scope=email%20https%3a%2f%2fwww.googleapis.com%2fauth%2fdocs.test%20https%3a%2f%2fwww.googleapis.com%2fauth%2fdrive%20https%3a%2f%2fwww.googleapis.com%2fauth%2fdrive.photos.readonly%20https%3a%2f%2fwww.googleapis.com%2fauth%2fpeopleapi.readonly\n",
            "\n",
            "Enter your authorization code:\n",
            "··········\n",
            "Mounted at /content/drive\n"
          ],
          "name": "stdout"
        }
      ]
    },
    {
      "cell_type": "markdown",
      "metadata": {
        "id": "FMgpP6fjTJF8",
        "colab_type": "text"
      },
      "source": [
        "#### 2. Imports"
      ]
    },
    {
      "cell_type": "code",
      "metadata": {
        "id": "KRgT80wpTJiO",
        "colab_type": "code",
        "colab": {}
      },
      "source": [
        "import os\n",
        "import numpy as np\n",
        "import math\n",
        "from random import random, shuffle, choices, randrange\n",
        "import matplotlib.pyplot as plt\n",
        "import json\n",
        "import pandas as pd\n",
        "from IPython.display import display\n",
        "from tqdm import tqdm, tqdm_notebook, trange\n",
        "import sentencepiece as spm\n",
        "import wget\n",
        "\n",
        "import torch\n",
        "import torch.nn as nn\n",
        "import torch.nn.functional as F"
      ],
      "execution_count": 0,
      "outputs": []
    },
    {
      "cell_type": "markdown",
      "metadata": {
        "id": "KRrdaSJ_TNAf",
        "colab_type": "text"
      },
      "source": [
        "#### 3. 폴더의 목록을 확인\n",
        "Google Drive mount가 잘 되었는지 확인하기 위해 data_dir 목록을 확인 합니다."
      ]
    },
    {
      "cell_type": "code",
      "metadata": {
        "id": "QfWB9L0_TQlP",
        "colab_type": "code",
        "outputId": "5012e254-5831-43a3-b585-e33ee1970d80",
        "colab": {
          "base_uri": "https://localhost:8080/",
          "height": 289
        }
      },
      "source": [
        "for f in os.listdir(data_dir):\n",
        "  print(f)"
      ],
      "execution_count": 4,
      "outputs": [
        {
          "output_type": "stream",
          "text": [
            "kowiki.csv.gz\n",
            "kowiki.model\n",
            "kowiki.vocab\n",
            "ratings_train.txt\n",
            "ratings_test.txt\n",
            "ratings_train.json\n",
            "ratings_test.json\n",
            "kowiki.txt\n",
            "kowiki_gpt.json\n",
            "save_gpt_pretrain.pth\n",
            "kowiki_bert_0.json\n",
            "save_bert_pretrain.pth\n",
            "kowiki_t5.model\n",
            "kowiki_t5.vocab\n",
            "kowiki_t5_0.json\n",
            "save_t5_pretrain.pth\n"
          ],
          "name": "stdout"
        }
      ]
    },
    {
      "cell_type": "markdown",
      "metadata": {
        "id": "yUOwhKMyTXNQ",
        "colab_type": "text"
      },
      "source": [
        "#### 4. Vocab 및 입력\n",
        "\n",
        "T5를 위해 vocab을 새로 만들 었습니다. (아래 옵션 참고)"
      ]
    },
    {
      "cell_type": "code",
      "metadata": {
        "id": "BvVMgq0sgMEj",
        "colab_type": "code",
        "colab": {}
      },
      "source": [
        "spm.SentencePieceTrainer.train(\n",
        "    f\"--input={corpus} --model_prefix={prefix} --vocab_size={vocab_size + 7 + 26}\" + \n",
        "    \" --model_type=bpe\" +\n",
        "    \" --max_sentence_length=999999\" + # 문장 최대 길이\n",
        "    \" --pad_id=0 --pad_piece=[PAD]\" + # pad (0)\n",
        "    \" --unk_id=1 --unk_piece=[UNK]\" + # unknown (1)\n",
        "    \" --bos_id=2 --bos_piece=[BOS]\" + # begin of sequence (2)\n",
        "    \" --eos_id=3 --eos_piece=[EOS]\" + # end of sequence (3)\n",
        "    \" --user_defined_symbols=[SEP],[CLS],[MASK],<A>,<B>,<C>,<D>,<E>,<F>,<G>,<H>,<I>,<J>,<K>,<L>,<M>,<N>,<O>,<P>,<Q>,<R>,<S>,<T>,<U>,<V>,<W>,<X>,<Y>,<Z>\") # 기타 추가 토큰"
      ],
      "execution_count": 0,
      "outputs": []
    },
    {
      "cell_type": "code",
      "metadata": {
        "id": "1LX6VgIkTaKV",
        "colab_type": "code",
        "outputId": "a4f39958-3250-49d9-f10f-ba150219c661",
        "colab": {
          "base_uri": "https://localhost:8080/",
          "height": 34
        }
      },
      "source": [
        "# vocab loading\n",
        "vocab_file = f\"{data_dir}/kowiki_t5.model\"\n",
        "vocab = spm.SentencePieceProcessor()\n",
        "vocab.load(vocab_file)"
      ],
      "execution_count": 5,
      "outputs": [
        {
          "output_type": "execute_result",
          "data": {
            "text/plain": [
              "True"
            ]
          },
          "metadata": {
            "tags": []
          },
          "execution_count": 5
        }
      ]
    },
    {
      "cell_type": "markdown",
      "metadata": {
        "id": "LMgziU4ATcyN",
        "colab_type": "text"
      },
      "source": [
        "#### 5. Config\n",
        "\n",
        "모델에 설정 값을 전달하기 위한 config를 만듭니다."
      ]
    },
    {
      "cell_type": "code",
      "metadata": {
        "id": "GDcRg9V0Tdc1",
        "colab_type": "code",
        "colab": {}
      },
      "source": [
        "\"\"\" configuration json을 읽어들이는 class \"\"\"\n",
        "class Config(dict): \n",
        "    __getattr__ = dict.__getitem__\n",
        "    __setattr__ = dict.__setitem__\n",
        "\n",
        "    @classmethod\n",
        "    def load(cls, file):\n",
        "        with open(file, 'r') as f:\n",
        "            config = json.loads(f.read())\n",
        "            return Config(config)"
      ],
      "execution_count": 0,
      "outputs": []
    },
    {
      "cell_type": "code",
      "metadata": {
        "id": "JUztpEf6Tfx1",
        "colab_type": "code",
        "outputId": "b9c71b1c-3124-4b7b-cf78-3f0ca157507f",
        "colab": {
          "base_uri": "https://localhost:8080/",
          "height": 34
        }
      },
      "source": [
        "config = Config({\n",
        "    \"n_vocab\": len(vocab),\n",
        "    \"n_seq\": 256,\n",
        "    \"n_layer\": 6,\n",
        "    \"d_hidn\": 256,\n",
        "    \"i_pad\": 0,\n",
        "    \"d_ff\": 1024,\n",
        "    \"n_head\": 4,\n",
        "    \"d_head\": 64,\n",
        "    \"dropout\": 0.1,\n",
        "    \"layer_norm_epsilon\": 1e-12\n",
        "})\n",
        "print(config)"
      ],
      "execution_count": 7,
      "outputs": [
        {
          "output_type": "stream",
          "text": [
            "{'n_vocab': 8033, 'n_seq': 256, 'n_layer': 6, 'd_hidn': 256, 'i_pad': 0, 'd_ff': 1024, 'n_head': 4, 'd_head': 64, 'dropout': 0.1, 'layer_norm_epsilon': 1e-12}\n"
          ],
          "name": "stdout"
        }
      ]
    },
    {
      "cell_type": "markdown",
      "metadata": {
        "id": "j93X24LtTijG",
        "colab_type": "text"
      },
      "source": [
        "#### 6. T5\n",
        "\n",
        "T5 Class 및 함수 입니다."
      ]
    },
    {
      "cell_type": "code",
      "metadata": {
        "id": "z_41WubQUImx",
        "colab_type": "code",
        "colab": {}
      },
      "source": [
        "\"\"\" attention pad mask \"\"\"\n",
        "def get_attn_pad_mask(seq_q, seq_k, i_pad):\n",
        "    batch_size, len_q = seq_q.size()\n",
        "    batch_size, len_k = seq_k.size()\n",
        "    pad_attn_mask = seq_k.data.eq(i_pad).unsqueeze(1).expand(batch_size, len_q, len_k)  # <pad>\n",
        "    return pad_attn_mask\n",
        "\n",
        "\n",
        "\"\"\" attention decoder mask \"\"\"\n",
        "def get_attn_decoder_mask(seq):\n",
        "    subsequent_mask = torch.ones_like(seq).unsqueeze(-1).expand(seq.size(0), seq.size(1), seq.size(1))\n",
        "    subsequent_mask = subsequent_mask.triu(diagonal=1) # upper triangular part of a matrix(2-D)\n",
        "    return subsequent_mask\n",
        "\n",
        "\n",
        "\"\"\" scale dot product attention \"\"\"\n",
        "class ScaledDotProductAttention(nn.Module):\n",
        "    def __init__(self, config):\n",
        "        super().__init__()\n",
        "        self.config = config\n",
        "        self.dropout = nn.Dropout(config.dropout)\n",
        "        self.scale = 1 / (self.config.d_head ** 0.5)\n",
        "        self.num_buckets = 32\n",
        "        self.relative_attention_bias = torch.nn.Embedding(self.num_buckets, self.config.n_head)\n",
        "    \n",
        "    def forward(self, Q, K, V, attn_mask, bidirectional=True):\n",
        "        qlen, klen = Q.size(-2), K.size(-2)\n",
        "        # (bs, n_head, n_q_seq, n_k_seq)\n",
        "        scores = torch.matmul(Q, K.transpose(-1, -2)).mul_(self.scale)\n",
        "        # (1, n_head, n_q_seq, n_k_seq)\n",
        "        position_bias = self.compute_bias(qlen, klen, bidirectional=bidirectional)\n",
        "        scores += position_bias\n",
        "        scores.masked_fill_(attn_mask, -1e9)\n",
        "        # (bs, n_head, n_q_seq, n_k_seq)\n",
        "        attn_prob = nn.Softmax(dim=-1)(scores)\n",
        "        attn_prob = self.dropout(attn_prob)\n",
        "        # (bs, n_head, n_q_seq, d_v)\n",
        "        context = torch.matmul(attn_prob, V)\n",
        "        # (bs, n_head, n_q_seq, d_v), (bs, n_head, n_q_seq, n_v_seq)\n",
        "        return context, attn_prob\n",
        "    \n",
        "    def compute_bias(self, qlen, klen, bidirectional=True):\n",
        "        context_position = torch.arange(qlen, dtype=torch.long)[:, None]\n",
        "        memory_position = torch.arange(klen, dtype=torch.long)[None, :]\n",
        "        # (qlen, klen)\n",
        "        relative_position = memory_position - context_position\n",
        "        # (qlen, klen)\n",
        "        rp_bucket = self._relative_position_bucket(\n",
        "            relative_position,  # shape (qlen, klen)\n",
        "            num_buckets=self.num_buckets,\n",
        "            bidirectional=bidirectional\n",
        "        )\n",
        "        # (qlen, klen)\n",
        "        rp_bucket = rp_bucket.to(self.relative_attention_bias.weight.device)\n",
        "        # (qlen, klen, n_head)\n",
        "        values = self.relative_attention_bias(rp_bucket)\n",
        "        # (1, n_head, qlen, klen)\n",
        "        values = values.permute([2, 0, 1]).unsqueeze(0)\n",
        "        return values\n",
        "\n",
        "    def _relative_position_bucket(self, relative_position, bidirectional=True, num_buckets=32, max_distance=128):\n",
        "        ret = 0\n",
        "        n = -relative_position\n",
        "        if bidirectional:\n",
        "            num_buckets //= 2\n",
        "            ret += (n < 0).to(torch.long) * num_buckets  # mtf.to_int32(mtf.less(n, 0)) * num_buckets\n",
        "            n = torch.abs(n)\n",
        "        else:\n",
        "            n = torch.max(n, torch.zeros_like(n))\n",
        "\n",
        "        # half of the buckets are for exact increments in positions\n",
        "        max_exact = num_buckets // 2\n",
        "        is_small = n < max_exact\n",
        "\n",
        "        # The other half of the buckets are for logarithmically bigger bins in positions up to max_distance\n",
        "        val_if_large = max_exact + (\n",
        "                torch.log(n.float() / max_exact) / math.log(max_distance / max_exact) * (num_buckets - max_exact)\n",
        "        ).to(torch.long)\n",
        "        val_if_large = torch.min(val_if_large, torch.full_like(val_if_large, num_buckets - 1))\n",
        "\n",
        "        ret += torch.where(is_small, n, val_if_large)\n",
        "        return ret\n",
        "\n",
        "\n",
        "\"\"\" multi head attention \"\"\"\n",
        "class MultiHeadAttention(nn.Module):\n",
        "    def __init__(self, config):\n",
        "        super().__init__()\n",
        "        self.config = config\n",
        "\n",
        "        self.W_Q = nn.Linear(self.config.d_hidn, self.config.n_head * self.config.d_head)\n",
        "        self.W_K = nn.Linear(self.config.d_hidn, self.config.n_head * self.config.d_head)\n",
        "        self.W_V = nn.Linear(self.config.d_hidn, self.config.n_head * self.config.d_head)\n",
        "        self.scaled_dot_attn = ScaledDotProductAttention(self.config)\n",
        "        self.linear = nn.Linear(self.config.n_head * self.config.d_head, self.config.d_hidn)\n",
        "        self.dropout = nn.Dropout(config.dropout)\n",
        "    \n",
        "    def forward(self, Q, K, V, attn_mask, bidirectional=False):\n",
        "        batch_size = Q.size(0)\n",
        "        # (bs, n_head, n_q_seq, d_head)\n",
        "        q_s = self.W_Q(Q).view(batch_size, -1, self.config.n_head, self.config.d_head).transpose(1,2)\n",
        "        # (bs, n_head, n_k_seq, d_head)\n",
        "        k_s = self.W_K(K).view(batch_size, -1, self.config.n_head, self.config.d_head).transpose(1,2)\n",
        "        # (bs, n_head, n_v_seq, d_head)\n",
        "        v_s = self.W_V(V).view(batch_size, -1, self.config.n_head, self.config.d_head).transpose(1,2)\n",
        "\n",
        "        # (bs, n_head, n_q_seq, n_k_seq)\n",
        "        attn_mask = attn_mask.unsqueeze(1).repeat(1, self.config.n_head, 1, 1)\n",
        "\n",
        "        # (bs, n_head, n_q_seq, d_head), (bs, n_head, n_q_seq, n_k_seq)\n",
        "        context, attn_prob = self.scaled_dot_attn(q_s, k_s, v_s, attn_mask, bidirectional=bidirectional)\n",
        "        # (bs, n_head, n_q_seq, h_head * d_head)\n",
        "        context = context.transpose(1, 2).contiguous().view(batch_size, -1, self.config.n_head * self.config.d_head)\n",
        "        # (bs, n_head, n_q_seq, e_embd)\n",
        "        output = self.linear(context)\n",
        "        output = self.dropout(output)\n",
        "        # (bs, n_q_seq, d_hidn), (bs, n_head, n_q_seq, n_k_seq)\n",
        "        return output, attn_prob\n",
        "\n",
        "\n",
        "\"\"\" feed forward \"\"\"\n",
        "class PoswiseFeedForwardNet(nn.Module):\n",
        "    def __init__(self, config):\n",
        "        super().__init__()\n",
        "        self.config = config\n",
        "\n",
        "        self.conv1 = nn.Conv1d(in_channels=self.config.d_hidn, out_channels=self.config.d_ff, kernel_size=1)\n",
        "        self.conv2 = nn.Conv1d(in_channels=self.config.d_ff, out_channels=self.config.d_hidn, kernel_size=1)\n",
        "        self.active = F.gelu\n",
        "        self.dropout = nn.Dropout(config.dropout)\n",
        "\n",
        "    def forward(self, inputs):\n",
        "        # (bs, d_ff, n_seq)\n",
        "        output = self.active(self.conv1(inputs.transpose(1, 2)))\n",
        "        # (bs, n_seq, d_hidn)\n",
        "        output = self.conv2(output).transpose(1, 2)\n",
        "        output = self.dropout(output)\n",
        "        # (bs, n_seq, d_hidn)\n",
        "        return output"
      ],
      "execution_count": 0,
      "outputs": []
    },
    {
      "cell_type": "code",
      "metadata": {
        "id": "WDXUeMKoULa2",
        "colab_type": "code",
        "colab": {}
      },
      "source": [
        "\"\"\" encoder layer \"\"\"\n",
        "class EncoderLayer(nn.Module):\n",
        "    def __init__(self, config):\n",
        "        super().__init__()\n",
        "        self.config = config\n",
        "\n",
        "        self.self_attn = MultiHeadAttention(self.config)\n",
        "        self.layer_norm1 = nn.LayerNorm(self.config.d_hidn, eps=self.config.layer_norm_epsilon)\n",
        "        self.pos_ffn = PoswiseFeedForwardNet(self.config)\n",
        "        self.layer_norm2 = nn.LayerNorm(self.config.d_hidn, eps=self.config.layer_norm_epsilon)\n",
        "    \n",
        "    def forward(self, inputs, attn_mask):\n",
        "        # (bs, n_enc_seq, d_hidn), (bs, n_head, n_enc_seq, n_enc_seq)\n",
        "        att_outputs, attn_prob = self.self_attn(inputs, inputs, inputs, attn_mask)\n",
        "        att_outputs = self.layer_norm1(inputs + att_outputs)\n",
        "        # (bs, n_enc_seq, d_hidn)\n",
        "        ffn_outputs = self.pos_ffn(att_outputs)\n",
        "        ffn_outputs = self.layer_norm2(ffn_outputs + att_outputs)\n",
        "        # (bs, n_enc_seq, d_hidn), (bs, n_head, n_enc_seq, n_enc_seq)\n",
        "        return ffn_outputs, attn_prob\n",
        "\n",
        "\n",
        "\"\"\" encoder \"\"\"\n",
        "class Encoder(nn.Module):\n",
        "    def __init__(self, config):\n",
        "        super().__init__()\n",
        "        self.config = config\n",
        "\n",
        "        self.layers = nn.ModuleList([EncoderLayer(self.config) for _ in range(self.config.n_layer)])\n",
        "    \n",
        "    def forward(self, enc_embd, enc_self_mask):\n",
        "        # (bs, n_enc_seq, d_hidn)\n",
        "        enc_outputs = enc_embd\n",
        "\n",
        "        attn_probs = []\n",
        "        for layer in self.layers:\n",
        "            # (bs, n_enc_seq, d_hidn), (bs, n_head, n_enc_seq, n_enc_seq)\n",
        "            enc_outputs, attn_prob = layer(enc_outputs, enc_self_mask)\n",
        "            attn_probs.append(attn_prob)\n",
        "        # (bs, n_enc_seq, d_hidn), [(bs, n_head, n_enc_seq, n_enc_seq)]\n",
        "        return enc_outputs, attn_probs\n",
        "\n",
        "\n",
        "\"\"\" decoder layer \"\"\"\n",
        "class DecoderLayer(nn.Module):\n",
        "    def __init__(self, config):\n",
        "        super().__init__()\n",
        "        self.config = config\n",
        "\n",
        "        self.self_attn = MultiHeadAttention(self.config)\n",
        "        self.layer_norm1 = nn.LayerNorm(self.config.d_hidn, eps=self.config.layer_norm_epsilon)\n",
        "        self.dec_enc_attn = MultiHeadAttention(self.config)\n",
        "        self.layer_norm2 = nn.LayerNorm(self.config.d_hidn, eps=self.config.layer_norm_epsilon)\n",
        "        self.pos_ffn = PoswiseFeedForwardNet(self.config)\n",
        "        self.layer_norm3 = nn.LayerNorm(self.config.d_hidn, eps=self.config.layer_norm_epsilon)\n",
        "    \n",
        "    def forward(self, dec_inputs, enc_outputs, self_mask, ende_mask):\n",
        "        # (bs, n_dec_seq, d_hidn), (bs, n_head, n_dec_seq, n_dec_seq)\n",
        "        self_att_outputs, self_attn_prob = self.self_attn(dec_inputs, dec_inputs, dec_inputs, self_mask, bidirectional=False)\n",
        "        self_att_outputs = self.layer_norm1(dec_inputs + self_att_outputs)\n",
        "        # (bs, n_dec_seq, d_hidn), (bs, n_head, n_dec_seq, n_enc_seq)\n",
        "        dec_enc_att_outputs, dec_enc_attn_prob = self.dec_enc_attn(self_att_outputs, enc_outputs, enc_outputs, ende_mask)\n",
        "        dec_enc_att_outputs = self.layer_norm2(self_att_outputs + dec_enc_att_outputs)\n",
        "        # (bs, n_dec_seq, d_hidn)\n",
        "        ffn_outputs = self.pos_ffn(dec_enc_att_outputs)\n",
        "        ffn_outputs = self.layer_norm3(dec_enc_att_outputs + ffn_outputs)\n",
        "        # (bs, n_dec_seq, d_hidn), (bs, n_head, n_dec_seq, n_dec_seq), (bs, n_head, n_dec_seq, n_enc_seq)\n",
        "        return ffn_outputs, self_attn_prob, dec_enc_attn_prob\n",
        "\n",
        "\n",
        "\"\"\" decoder \"\"\"\n",
        "class Decoder(nn.Module):\n",
        "    def __init__(self, config):\n",
        "        super().__init__()\n",
        "        self.config = config\n",
        "\n",
        "        self.layers = nn.ModuleList([DecoderLayer(self.config) for _ in range(self.config.n_layer)])\n",
        "    \n",
        "    def forward(self, dec_embd, enc_outputs, self_mask, ende_mask):\n",
        "        # (bs, n_dec_seq, d_hidn)\n",
        "        dec_outputs = dec_embd\n",
        "\n",
        "        self_attn_probs, dec_enc_attn_probs = [], []\n",
        "        for layer in self.layers:\n",
        "            # (bs, n_dec_seq, d_hidn), (bs, n_dec_seq, n_dec_seq), (bs, n_dec_seq, n_enc_seq)\n",
        "            dec_outputs, self_attn_prob, dec_enc_attn_prob = layer(dec_outputs, enc_outputs, self_mask, ende_mask)\n",
        "            self_attn_probs.append(self_attn_prob)\n",
        "            dec_enc_attn_probs.append(dec_enc_attn_prob)\n",
        "        # (bs, n_dec_seq, d_hidn), [(bs, n_dec_seq, n_dec_seq)], [(bs, n_dec_seq, n_enc_seq)]S\n",
        "        return dec_outputs, self_attn_probs, dec_enc_attn_probs\n",
        "\n",
        "\n",
        "\"\"\" t5 \"\"\"\n",
        "class T5(nn.Module):\n",
        "    def __init__(self, config):\n",
        "        super().__init__()\n",
        "        self.config = config\n",
        "\n",
        "        self.embedding = nn.Embedding(self.config.n_vocab, self.config.d_hidn)\n",
        "        self.encoder = Encoder(self.config)\n",
        "        self.decoder = Decoder(self.config)\n",
        "\n",
        "        self.projection_lm = nn.Linear(self.config.d_hidn, self.config.n_vocab, bias=False)\n",
        "        self.projection_lm.weight = self.embedding.weight\n",
        "    \n",
        "    def forward(self, enc_inputs, dec_inputs):\n",
        "        enc_embd = self.embedding(enc_inputs)\n",
        "        dec_embd = self.embedding(dec_inputs)\n",
        "\n",
        "        enc_self_mask = get_attn_pad_mask(enc_inputs, enc_inputs, self.config.i_pad)\n",
        "        dec_self_mask = self.get_attn_dec_mask(dec_inputs)\n",
        "        dec_ende_mask = get_attn_pad_mask(dec_inputs, enc_inputs, self.config.i_pad)\n",
        "\n",
        "        # (bs, n_enc_seq, d_hidn), [(bs, n_head, n_enc_seq, n_enc_seq)]\n",
        "        enc_outputs, enc_self_attn_probs = self.encoder(enc_embd, enc_self_mask)\n",
        "        # (bs, n_dec_seq, d_hidn), [(bs, n_head, n_dec_seq, n_dec_seq)], [(bs, n_head, n_dec_seq, n_enc_seq)]\n",
        "        dec_outputs, dec_self_attn_probs, dec_enc_attn_probs = self.decoder(dec_embd, enc_outputs, dec_self_mask, dec_ende_mask)\n",
        "        # (bs, n_dec_seq, n_vocab)\n",
        "        dec_outputs = self.projection_lm(dec_outputs)\n",
        "        # (bs, n_dec_seq, n_vocab), [(bs, n_head, n_enc_seq, n_enc_seq)], [(bs, n_head, n_dec_seq, n_dec_seq)], [(bs, n_head, n_dec_seq, n_enc_seq)]\n",
        "        return dec_outputs, enc_self_attn_probs, dec_self_attn_probs, dec_enc_attn_probs\n",
        "    \n",
        "    def get_attn_dec_mask(self, dec_inputs):\n",
        "         # (bs, n_dec_seq, n_dec_seq)\n",
        "        dec_pad_mask = get_attn_pad_mask(dec_inputs, dec_inputs, self.config.i_pad)\n",
        "        # (bs, n_dec_seq, n_dec_seq)\n",
        "        dec_ahead_mask = get_attn_decoder_mask(dec_inputs)\n",
        "        # (bs, n_dec_seq, n_dec_seq)\n",
        "        dec_self_mask = torch.gt((dec_pad_mask + dec_ahead_mask), 0)\n",
        "        # (bs, n_dec_seq, n_dec_seq)\n",
        "        return dec_self_mask\n",
        "\n",
        "    def save(self, epoch, loss, path):\n",
        "        torch.save({\n",
        "            \"epoch\": epoch,\n",
        "            \"loss\": loss,\n",
        "            \"state_dict\": self.state_dict()\n",
        "        }, path)\n",
        "    \n",
        "    def load(self, path):\n",
        "        save = torch.load(path)\n",
        "        self.load_state_dict(save[\"state_dict\"])\n",
        "        return save[\"epoch\"], save[\"loss\"]"
      ],
      "execution_count": 0,
      "outputs": []
    },
    {
      "cell_type": "markdown",
      "metadata": {
        "id": "pZQyVfnJUcXH",
        "colab_type": "text"
      },
      "source": [
        "#### 7. Pretrain 모델"
      ]
    },
    {
      "cell_type": "code",
      "metadata": {
        "id": "KIu5UyLUUdMW",
        "colab_type": "code",
        "colab": {}
      },
      "source": [
        "\"\"\" T5 pretrain \"\"\"\n",
        "class T5Pretrain(nn.Module):\n",
        "    def __init__(self, config):\n",
        "        super().__init__()\n",
        "        self.config = config\n",
        "\n",
        "        self.t5 = T5(self.config)\n",
        "    \n",
        "    def forward(self, enc_inputs, dec_inputs):\n",
        "        # (bs, n_dec_seq, n_vocab), [(bs, n_head, n_enc_seq, n_enc_seq)], [(bs, n_head, n_dec_seq, n_dec_seq)], [(bs, n_head, n_dec_seq, n_enc_seq)]\n",
        "        logits, enc_self_attn_probs, dec_self_attn_probs, dec_enc_attn_probs = self.t5(enc_inputs, dec_inputs)\n",
        "        return logits, enc_self_attn_probs, dec_self_attn_probs, dec_enc_attn_probs"
      ],
      "execution_count": 0,
      "outputs": []
    },
    {
      "cell_type": "markdown",
      "metadata": {
        "id": "L_DfRSm3Uzg3",
        "colab_type": "text"
      },
      "source": [
        "#### 8. Pretrain Data 준비"
      ]
    },
    {
      "cell_type": "code",
      "metadata": {
        "id": "1cyywnsK12GB",
        "colab_type": "code",
        "outputId": "39b2c6ee-1625-4a2b-bd82-bf56e20ff459",
        "colab": {
          "base_uri": "https://localhost:8080/",
          "height": 296
        }
      },
      "source": [
        "SPAN_LEN = 8\n",
        "SPAN_VALUE = np.array([i+1 for i in range(SPAN_LEN)])\n",
        "SPAN_RATIO = np.array([1/i for i in SPAN_VALUE])\n",
        "SPAN_RATIO = SPAN_RATIO / np.sum(SPAN_RATIO)\n",
        "\n",
        "print(f\"평균 mask 길이: {np.sum(SPAN_VALUE * SPAN_RATIO)}\")\n",
        "\n",
        "# graph\n",
        "plt.figure(figsize=[12, 4])\n",
        "plt.plot(SPAN_RATIO, label=\"ration\")\n",
        "plt.legend()\n",
        "plt.xlabel('Length')\n",
        "plt.ylabel('Ratioo')\n",
        "plt.show()"
      ],
      "execution_count": 11,
      "outputs": [
        {
          "output_type": "stream",
          "text": [
            "평균 mask 길이: 2.9434954007884366\n"
          ],
          "name": "stdout"
        },
        {
          "output_type": "display_data",
          "data": {
            "image/png": "[encoded data removed]",
            "text/plain": [
              "<Figure size 864x288 with 1 Axes>"
            ]
          },
          "metadata": {
            "tags": []
          }
        }
      ]
    },
    {
      "cell_type": "code",
      "metadata": {
        "id": "7vR09cBp2yGH",
        "colab_type": "code",
        "colab": {}
      },
      "source": [
        "\"\"\" SPAN 길이 \"\"\"\n",
        "def get_span_length():\n",
        "    return choices(SPAN_VALUE, SPAN_RATIO)[0]"
      ],
      "execution_count": 0,
      "outputs": []
    },
    {
      "cell_type": "code",
      "metadata": {
        "id": "7F8q2PatU0KH",
        "colab_type": "code",
        "colab": {}
      },
      "source": [
        "def create_pretrain_mask(tokens, mask_cnt):\n",
        "    \"\"\"\n",
        "    마스크 생성\n",
        "    \"\"\"\n",
        "    masks = []\n",
        "    cand_idx = {}\n",
        "    index = 0\n",
        "    for (i, token) in enumerate(tokens):\n",
        "        masks.append(None)\n",
        "        if token == \"[BOS]\" or token == \"[EOS]\":\n",
        "            continue\n",
        "        if 0 < len(cand_idx) and not token.startswith(u\"\\u2581\"):\n",
        "            cand_idx[index].append(i)\n",
        "        else:\n",
        "            index += 1\n",
        "            cand_idx[index] = [i]\n",
        "    assert len(masks) == len(tokens)\n",
        "    keys = list(cand_idx.keys())\n",
        "    shuffle(keys)\n",
        "\n",
        "    mask_lms = []\n",
        "    covered_idx = set()\n",
        "    for index in keys:\n",
        "        if len(mask_lms) >= mask_cnt:\n",
        "            break\n",
        "        span_len = get_span_length()\n",
        "        # 남은 토큰개수고 마스크 토큰 캐수보다 작은 경우\n",
        "        if len(cand_idx) <= index + span_len:\n",
        "            continue\n",
        "        index_set = []\n",
        "        # mask할 토큰의 index 저장\n",
        "        for i in range(span_len):\n",
        "            index_set.extend(cand_idx[index + i])\n",
        "        # 마스크 개수 초과 방지\n",
        "        if len(mask_lms) + len(index_set) > mask_cnt:\n",
        "            continue\n",
        "        # 이미 마스크 된 경우가 있는지 확인\n",
        "        is_idx_covered = False\n",
        "        for index in index_set:\n",
        "            if index in covered_idx:\n",
        "                is_idx_covered = True\n",
        "                break\n",
        "        if is_idx_covered:\n",
        "            continue\n",
        "\n",
        "        for index in index_set:\n",
        "            covered_idx.add(index)\n",
        "            masked_token = None\n",
        "            mask_lms.append({\"index\": index, \"span_idx1\": index_set[0] - 1, \"span_idx2\": index_set[-1] + 1, \"label\": tokens[index]})\n",
        "            masks[index] = tokens[index]\n",
        "            tokens[index] = masked_token\n",
        "        # span boundary\n",
        "        covered_idx.add(index_set[0] - 1)\n",
        "        covered_idx.add(index_set[-1] + 1)\n",
        "\n",
        "    enc_input, dec_input = [], []\n",
        "    ascii_index = 65\n",
        "    is_mask = False\n",
        "    for i, token in enumerate(tokens):\n",
        "        if is_mask:\n",
        "            if token is None:\n",
        "                dec_input.append(masks[i])\n",
        "            else:\n",
        "                enc_input.append(token)\n",
        "                is_mask = False\n",
        "        else:\n",
        "            if token is None:\n",
        "                enc_input.append(f\"<{chr(ascii_index)}>\")\n",
        "                dec_input.append(f\"<{chr(ascii_index)}>\")\n",
        "                dec_input.append(masks[i])\n",
        "                ascii_index += 1\n",
        "                is_mask = True\n",
        "            else:\n",
        "                enc_input.append(token)\n",
        "    if 0 < len(dec_input):\n",
        "        dec_input.append(\"<Z>\")\n",
        "    return enc_input, dec_input"
      ],
      "execution_count": 0,
      "outputs": []
    },
    {
      "cell_type": "code",
      "metadata": {
        "id": "A7h4x5WAVE-Y",
        "colab_type": "code",
        "colab": {}
      },
      "source": [
        "def create_pretrain_instances(docs, doc_idx, doc, n_seq, mask_prob):\n",
        "    \"\"\"\n",
        "    doc별 pretrain 데이터 생성\n",
        "    \"\"\"\n",
        "    # for [BOS], [EOS]\n",
        "    max_seq = n_seq - 2\n",
        "    tgt_seq = max_seq\n",
        "\n",
        "    instances = []\n",
        "    current_chunk = []\n",
        "    current_length = 0\n",
        "    for i in range(len(doc)):\n",
        "        current_chunk.append(doc[i])  # line\n",
        "        current_length += len(doc[i])\n",
        "        if i == len(doc) - 1 or current_length >= tgt_seq:\n",
        "            if 0 < len(current_chunk):\n",
        "                tokens = []\n",
        "                for chunk in current_chunk: tokens.extend(chunk)\n",
        "                tokens = tokens[:tgt_seq]\n",
        "                enc_input, dec_input = create_pretrain_mask(tokens, int((len(tokens) - 3) * mask_prob))\n",
        "\n",
        "                instance = {\n",
        "                    \"enc_input\": enc_input,\n",
        "                    \"dec_input\": dec_input,\n",
        "                }\n",
        "                instances.append(instance)\n",
        "\n",
        "            current_chunk = []\n",
        "            current_length = 0\n",
        "    return instances"
      ],
      "execution_count": 0,
      "outputs": []
    },
    {
      "cell_type": "code",
      "metadata": {
        "id": "dqbLKjIczUQz",
        "colab_type": "code",
        "colab": {}
      },
      "source": [
        "\"\"\" pretrain 데이터 생성 \"\"\"\n",
        "def make_pretrain_data(vocab, in_file, out_file, count, n_seq, mask_prob):\n",
        "    line_cnt = 0\n",
        "    with open(in_file, \"r\") as in_f:\n",
        "        for line in in_f:\n",
        "            line_cnt += 1\n",
        "    \n",
        "    docs = []\n",
        "    with open(in_file, \"r\") as f:\n",
        "        doc = []\n",
        "        with tqdm_notebook(total=line_cnt, desc=f\"Loading\") as pbar:\n",
        "            for i, line in enumerate(f):\n",
        "                line = line.strip()\n",
        "                if line == \"\":\n",
        "                    if 0 < len(doc):\n",
        "                        docs.append(doc)\n",
        "                        doc = []\n",
        "                        # 메모리 사용량을 줄이기 위해 100,000개만 처리 함\n",
        "                        if 100000 < len(docs): break\n",
        "                else:\n",
        "                    pieces = vocab.encode_as_pieces(line)\n",
        "                    if 0 < len(pieces):\n",
        "                        doc.append(pieces)\n",
        "                pbar.update(1)\n",
        "        if doc:\n",
        "            docs.append(doc)\n",
        "\n",
        "    for index in range(count):\n",
        "        output = out_file.format(index)\n",
        "        if os.path.isfile(output): continue\n",
        "\n",
        "        with open(output, \"w\") as out_f:\n",
        "            with tqdm_notebook(total=len(docs), desc=f\"Making\") as pbar:\n",
        "                for i, doc in enumerate(docs):\n",
        "                    instances = create_pretrain_instances(docs, i, doc, n_seq, mask_prob)\n",
        "                    for instance in instances:\n",
        "                        out_f.write(json.dumps(instance, ensure_ascii=False))\n",
        "                        out_f.write(\"\\n\")\n",
        "                    pbar.update(1)"
      ],
      "execution_count": 0,
      "outputs": []
    },
    {
      "cell_type": "code",
      "metadata": {
        "id": "uPEwWM_qMoYB",
        "colab_type": "code",
        "colab": {}
      },
      "source": [
        "# pretrain 파일 개수\n",
        "count = 1"
      ],
      "execution_count": 0,
      "outputs": []
    },
    {
      "cell_type": "code",
      "metadata": {
        "id": "36MJkxW_zd07",
        "colab_type": "code",
        "outputId": "c6ec5083-c052-4065-9a39-e75071086347",
        "colab": {
          "base_uri": "https://localhost:8080/",
          "height": 66,
          "referenced_widgets": [
            "3f893cef3d474a15aab57e168205eedf",
            "10c886e2cf7c4eb5bca64b399098d168",
            "b4296d0ce29a4c7f8e575506c3835911",
            "26daeaba3b04460d87f5e9cfd8d85563",
            "e8124022674d485c9316ec64b2c456c9",
            "ddbba6da173642558aafa24f121bef2b",
            "b493c59c5e8d43649d2ed8484c909235",
            "69dffc7115af4e6eba4c1739db730db1"
          ]
        }
      },
      "source": [
        "in_file = f\"{data_dir}/kowiki.txt\"\n",
        "out_file = f\"{data_dir}/kowiki_t5\" + \"_{}.json\"\n",
        "n_seq = 256\n",
        "mask_prob = 0.15\n",
        "\n",
        "make_pretrain_data(vocab, in_file, out_file, count, n_seq, mask_prob)"
      ],
      "execution_count": 24,
      "outputs": [
        {
          "output_type": "display_data",
          "data": {
            "application/vnd.jupyter.widget-view+json": {
              "model_id": "3f893cef3d474a15aab57e168205eedf",
              "version_minor": 0,
              "version_major": 2
            },
            "text/plain": [
              "HBox(children=(IntProgress(value=0, description='Loading', max=3724301, style=ProgressStyle(description_width=…"
            ]
          },
          "metadata": {
            "tags": []
          }
        },
        {
          "output_type": "stream",
          "text": [
            "\n"
          ],
          "name": "stdout"
        }
      ]
    },
    {
      "cell_type": "markdown",
      "metadata": {
        "id": "rgAxx2YImNOw",
        "colab_type": "text"
      },
      "source": [
        "#### 9. Pretrain Data\n",
        "BERT Pretrain Data 입니다."
      ]
    },
    {
      "cell_type": "code",
      "metadata": {
        "id": "G8GPvntkmRlo",
        "colab_type": "code",
        "colab": {}
      },
      "source": [
        "\"\"\" pretrain 데이터셋 \"\"\"\n",
        "class PretrainDataSet(torch.utils.data.Dataset):\n",
        "    def __init__(self, vocab, infile):\n",
        "        self.vocab = vocab\n",
        "        self.labels = []\n",
        "        self.enc_inputs = []\n",
        "        self.dec_inputs = []\n",
        "\n",
        "        line_cnt = 0\n",
        "        with open(infile, \"r\") as f:\n",
        "            for line in f:\n",
        "                line_cnt += 1\n",
        "\n",
        "        with open(infile, \"r\") as f:\n",
        "            for i, line in enumerate(tqdm(f, total=line_cnt, desc=f\"Loading {infile}\", unit=\" lines\")):\n",
        "                instance = json.loads(line)\n",
        "                enc_input = [vocab.piece_to_id(p) for p in instance[\"enc_input\"]]\n",
        "                dec_input = [vocab.piece_to_id(p) for p in instance[\"dec_input\"]]\n",
        "                self.labels.append(dec_input + [vocab.piece_to_id(\"[EOS]\")])\n",
        "                self.enc_inputs.append(enc_input)\n",
        "                self.dec_inputs.append([vocab.piece_to_id(\"[BOS]\")] + dec_input)\n",
        "    \n",
        "    def __len__(self):\n",
        "        assert len(self.labels) == len(self.enc_inputs)\n",
        "        assert len(self.labels) == len(self.dec_inputs)\n",
        "        return len(self.labels)\n",
        "    \n",
        "    def __getitem__(self, item):\n",
        "        return (torch.tensor(self.labels[item]),\n",
        "                torch.tensor(self.enc_inputs[item]),\n",
        "                torch.tensor(self.dec_inputs[item]))"
      ],
      "execution_count": 0,
      "outputs": []
    },
    {
      "cell_type": "code",
      "metadata": {
        "id": "_ONVNep2nM05",
        "colab_type": "code",
        "colab": {}
      },
      "source": [
        "\"\"\" pretrain data collate_fn \"\"\"\n",
        "def pretrin_collate_fn(inputs):\n",
        "    labels, enc_inputs, dec_inputs = list(zip(*inputs))\n",
        "\n",
        "    labels = torch.nn.utils.rnn.pad_sequence(labels, batch_first=True, padding_value=-1)\n",
        "    enc_inputs = torch.nn.utils.rnn.pad_sequence(enc_inputs, batch_first=True, padding_value=0)\n",
        "    dec_inputs = torch.nn.utils.rnn.pad_sequence(dec_inputs, batch_first=True, padding_value=0)\n",
        "\n",
        "    batch = [\n",
        "        labels,\n",
        "        enc_inputs,\n",
        "        dec_inputs\n",
        "    ]\n",
        "    return batch"
      ],
      "execution_count": 0,
      "outputs": []
    },
    {
      "cell_type": "code",
      "metadata": {
        "id": "NzPPga8ZnQsq",
        "colab_type": "code",
        "outputId": "0f2de6db-b50d-47a5-d087-399aaeaf675d",
        "colab": {
          "base_uri": "https://localhost:8080/",
          "height": 34
        }
      },
      "source": [
        "\"\"\" pretrain 데이터 로더 \"\"\"\n",
        "batch_size = 128\n",
        "dataset = PretrainDataSet(vocab, f\"{data_dir}/kowiki_t5_0.json\")\n",
        "train_loader = torch.utils.data.DataLoader(dataset, batch_size=batch_size, shuffle=True, collate_fn=pretrin_collate_fn)"
      ],
      "execution_count": 18,
      "outputs": [
        {
          "output_type": "stream",
          "text": [
            "Loading /content/drive/My Drive/Data/transformer-evolution/kowiki_t5_0.json: 100%|██████████| 239325/239325 [00:46<00:00, 5133.59 lines/s]\n"
          ],
          "name": "stderr"
        }
      ]
    },
    {
      "cell_type": "code",
      "metadata": {
        "id": "gO9hUtT6pgS5",
        "colab_type": "code",
        "colab": {}
      },
      "source": [
        "\"\"\" 모델 epoch 학습 \"\"\"\n",
        "def train_epoch(config, epoch, model, criterion, optimizer, train_loader):\n",
        "    losses = []\n",
        "    model.train()\n",
        "\n",
        "    with tqdm(total=len(train_loader), desc=f\"Train({epoch})\") as pbar:\n",
        "        for i, value in enumerate(train_loader):\n",
        "            labels, enc_inputs, dec_inputs = map(lambda v: v.to(config.device), value)\n",
        "\n",
        "            optimizer.zero_grad()\n",
        "            outputs = model(enc_inputs, dec_inputs)\n",
        "            logits = outputs[0]\n",
        "\n",
        "            loss = criterion(logits.view(-1, logits.size(2)), labels.view(-1))\n",
        "\n",
        "            loss_val = loss.item()\n",
        "            losses.append(loss_val)\n",
        "\n",
        "            loss.backward()\n",
        "            optimizer.step()\n",
        "\n",
        "            pbar.update(1)\n",
        "            pbar.set_postfix_str(f\"Loss: {loss_val:.3f} ({np.mean(losses):.3f})\")\n",
        "    return np.mean(losses)"
      ],
      "execution_count": 0,
      "outputs": []
    },
    {
      "cell_type": "code",
      "metadata": {
        "id": "xl7i2KUTqInp",
        "colab_type": "code",
        "outputId": "2b489b02-ae11-416c-9b37-949a23801723",
        "colab": {
          "base_uri": "https://localhost:8080/",
          "height": 34
        }
      },
      "source": [
        "config.device = torch.device(\"cuda\" if torch.cuda.is_available() else \"cpu\")\n",
        "print(config)\n",
        "\n",
        "learning_rate = 5e-5\n",
        "n_epoch = 4"
      ],
      "execution_count": 22,
      "outputs": [
        {
          "output_type": "stream",
          "text": [
            "{'n_vocab': 8033, 'n_seq': 256, 'n_layer': 6, 'd_hidn': 256, 'i_pad': 0, 'd_ff': 1024, 'n_head': 4, 'd_head': 64, 'dropout': 0.1, 'layer_norm_epsilon': 1e-12, 'device': device(type='cuda')}\n"
          ],
          "name": "stdout"
        }
      ]
    },
    {
      "cell_type": "code",
      "metadata": {
        "id": "6KUHixRPqNpc",
        "colab_type": "code",
        "outputId": "efb516e5-ae2f-4097-f54c-a22a93c69e10",
        "colab": {
          "base_uri": "https://localhost:8080/",
          "height": 102
        }
      },
      "source": [
        "model = T5Pretrain(config)\n",
        "\n",
        "save_pretrain = f\"{data_dir}/save_t5_pretrain.pth\"\n",
        "best_epoch, best_loss = 0, 0\n",
        "if os.path.isfile(save_pretrain):\n",
        "    best_epoch, best_loss = model.t5.load(save_pretrain)\n",
        "    print(f\"load pretrain from: {save_pretrain}, epoch={best_epoch}, loss={best_loss}\")\n",
        "    best_epoch += 1\n",
        "\n",
        "model.to(config.device)\n",
        "\n",
        "criterion = torch.nn.CrossEntropyLoss(ignore_index=-1, reduction='mean')\n",
        "optimizer = torch.optim.Adam(model.parameters(), lr=learning_rate)\n",
        "\n",
        "losses = []\n",
        "offset = best_epoch\n",
        "for step in range(n_epoch):\n",
        "    epoch = step + offset\n",
        "    if 0 < step and 1 < count:\n",
        "        del train_loader\n",
        "        dataset = PretrainDataSet(vocab, f\"{data_dir}/kowiki_t5_{epoch % count}.json\")\n",
        "        train_loader = torch.utils.data.DataLoader(dataset, batch_size=batch_size, shuffle=True, collate_fn=pretrin_collate_fn)\n",
        "\n",
        "    loss = train_epoch(config, epoch, model, criterion, optimizer, train_loader)\n",
        "    losses.append(loss)\n",
        "    model.t5.save(epoch, loss, save_pretrain)"
      ],
      "execution_count": 26,
      "outputs": [
        {
          "output_type": "stream",
          "text": [
            "\rTrain(8):   0%|          | 0/1870 [00:00<?, ?it/s]"
          ],
          "name": "stderr"
        },
        {
          "output_type": "stream",
          "text": [
            "load pretrain from: /content/drive/My Drive/Data/transformer-evolution/save_t5_pretrain.pth, epoch=7, loss=5.530668131935405\n"
          ],
          "name": "stdout"
        },
        {
          "output_type": "stream",
          "text": [
            "Train(8): 100%|██████████| 1870/1870 [18:28<00:00,  1.79it/s, Loss: 5.402 (5.394)]\n",
            "Train(9): 100%|██████████| 1870/1870 [18:35<00:00,  1.78it/s, Loss: 5.173 (5.267)]\n",
            "Train(10): 100%|██████████| 1870/1870 [18:39<00:00,  1.79it/s, Loss: 5.129 (5.160)]\n",
            "Train(11): 100%|██████████| 1870/1870 [18:41<00:00,  1.80it/s, Loss: 5.007 (5.069)]\n"
          ],
          "name": "stderr"
        }
      ]
    },
    {
      "cell_type": "code",
      "metadata": {
        "id": "UO7-KlvSr8mV",
        "colab_type": "code",
        "colab": {
          "base_uri": "https://localhost:8080/",
          "height": 652
        },
        "outputId": "92bfb975-1b50-494a-abb3-46b759ce3c8e"
      },
      "source": [
        "# data\n",
        "data = {\n",
        "    \"loss\": losses\n",
        "}\n",
        "df = pd.DataFrame(data)\n",
        "display(df)\n",
        "\n",
        "# graph\n",
        "plt.figure(figsize=[12, 4])\n",
        "plt.plot(losses, label=\"loss\")\n",
        "plt.legend()\n",
        "plt.xlabel('Epoch')\n",
        "plt.ylabel('Loss')\n",
        "plt.show()"
      ],
      "execution_count": 29,
      "outputs": [
        {
          "output_type": "display_data",
          "data": {
            "text/html": [
              "<div>\n",
              "<style scoped>\n",
              "    .dataframe tbody tr th:only-of-type {\n",
              "        vertical-align: middle;\n",
              "    }\n",
              "\n",
              "    .dataframe tbody tr th {\n",
              "        vertical-align: top;\n",
              "    }\n",
              "\n",
              "    .dataframe thead th {\n",
              "        text-align: right;\n",
              "    }\n",
              "</style>\n",
              "<table border=\"1\" class=\"dataframe\">\n",
              "  <thead>\n",
              "    <tr style=\"text-align: right;\">\n",
              "      <th></th>\n",
              "      <th>loss</th>\n",
              "    </tr>\n",
              "  </thead>\n",
              "  <tbody>\n",
              "    <tr>\n",
              "      <th>0</th>\n",
              "      <td>16.639366</td>\n",
              "    </tr>\n",
              "    <tr>\n",
              "      <th>1</th>\n",
              "      <td>7.987684</td>\n",
              "    </tr>\n",
              "    <tr>\n",
              "      <th>2</th>\n",
              "      <td>6.623163</td>\n",
              "    </tr>\n",
              "    <tr>\n",
              "      <th>3</th>\n",
              "      <td>6.216493</td>\n",
              "    </tr>\n",
              "    <tr>\n",
              "      <th>4</th>\n",
              "      <td>6.001551</td>\n",
              "    </tr>\n",
              "    <tr>\n",
              "      <th>5</th>\n",
              "      <td>5.828925</td>\n",
              "    </tr>\n",
              "    <tr>\n",
              "      <th>6</th>\n",
              "      <td>5.672611</td>\n",
              "    </tr>\n",
              "    <tr>\n",
              "      <th>7</th>\n",
              "      <td>5.394377</td>\n",
              "    </tr>\n",
              "    <tr>\n",
              "      <th>8</th>\n",
              "      <td>5.267102</td>\n",
              "    </tr>\n",
              "    <tr>\n",
              "      <th>9</th>\n",
              "      <td>5.159925</td>\n",
              "    </tr>\n",
              "    <tr>\n",
              "      <th>10</th>\n",
              "      <td>5.069447</td>\n",
              "    </tr>\n",
              "  </tbody>\n",
              "</table>\n",
              "</div>"
            ],
            "text/plain": [
              "         loss\n",
              "0   16.639366\n",
              "1    7.987684\n",
              "2    6.623163\n",
              "3    6.216493\n",
              "4    6.001551\n",
              "5    5.828925\n",
              "6    5.672611\n",
              "7    5.394377\n",
              "8    5.267102\n",
              "9    5.159925\n",
              "10   5.069447"
            ]
          },
          "metadata": {
            "tags": []
          }
        },
        {
          "output_type": "display_data",
          "data": {
            "image/png": "[encoded data removed]",
            "text/plain": [
              "<Figure size 864x288 with 1 Axes>"
            ]
          },
          "metadata": {
            "tags": []
          }
        }
      ]
    }
  ]
}